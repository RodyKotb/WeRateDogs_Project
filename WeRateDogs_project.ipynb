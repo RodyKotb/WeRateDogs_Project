{
 "cells": [
  {
   "cell_type": "markdown",
   "metadata": {
    "extensions": {
     "jupyter_dashboards": {
      "version": 1,
      "views": {
       "grid_default": {
        "col": 0,
        "height": 4,
        "hidden": false,
        "row": 0,
        "width": 4
       },
       "report_default": {
        "hidden": false
       }
      }
     }
    }
   },
   "source": [
    "# Project: Wrangling and Analyze Data"
   ]
  },
  {
   "cell_type": "markdown",
   "metadata": {},
   "source": [
    "## Data Gathering"
   ]
  },
  {
   "cell_type": "code",
   "execution_count": 1,
   "metadata": {
    "extensions": {
     "jupyter_dashboards": {
      "version": 1,
      "views": {
       "grid_default": {
        "hidden": true
       },
       "report_default": {
        "hidden": true
       }
      }
     }
    }
   },
   "outputs": [
    {
     "name": "stdout",
     "output_type": "stream",
     "text": [
      "Checking for tweet_json.txt file...\n",
      "tweet_json.txt found! Proceeding...\n"
     ]
    }
   ],
   "source": [
    "#Import libraries\n",
    "import pandas as pd\n",
    "import numpy as np\n",
    "import matplotlib.pyplot as plt\n",
    "import seaborn as sns\n",
    "import os\n",
    "import re\n",
    "import json\n",
    "from datetime import datetime\n",
    "import time\n",
    "\n",
    "pd.set_option('display.max_columns', None)\n",
    "plt.style.use('fivethirtyeight')\n",
    "sns.set(style=\"whitegrid\")\n",
    "archive = pd.read_csv('twitter-archive-enhanced.csv')\n",
    "print(\"Checking for tweet_json.txt file...\")\n",
    "if not os.path.exists('tweet_json.txt'):\n",
    "    print(\"ERROR: tweet_json.txt file not found!\")\n",
    "    print(\"Download it from: https://d17h27t6h515a5.cloudfront.net/topher/2017/August/599fd2ad_twitter-archive-enhanced/twitter-archive-enhanced.csv\")\n",
    "else:\n",
    "    print(\"tweet_json.txt found! Proceeding...\")"
   ]
  },
  {
   "cell_type": "code",
   "execution_count": 2,
   "metadata": {},
   "outputs": [
    {
     "name": "stdout",
     "output_type": "stream",
     "text": [
      "image-predictions.csv already exists\n"
     ]
    }
   ],
   "source": [
    "# Import requests\n",
    "import requests\n",
    "url = 'https://d17h27t6h515a5.cloudfront.net/topher/2017/August/599fd2ad_image-predictions/image-predictions.tsv'\n",
    "response = requests.get(url)\n",
    "\n",
    "with open('image-predictions.tsv', 'wb') as file:\n",
    "    file.write(response.content)\n",
    "    \n",
    "image_predictions = pd.read_csv('image-predictions.tsv', sep='\\t')\n",
    "\n",
    "image_url = \"https://d17h27t6h515a5.cloudfront.net/topher/2017/August/599fd2ad_image-predictions/image-predictions.tsv\"\n",
    "image_file = \"image-predictions.csv\"\n",
    "\n",
    "if not os.path.exists(image_file):\n",
    "    print(f\"Downloading {image_file}...\")\n",
    "    response = requests.get(image_url)\n",
    "    \n",
    "    df = pd.read_csv(pd.compat.StringIO(response.text), sep='\\t')\n",
    "    df.to_csv(image_file, index=False)\n",
    "    print(f\"Saved as {image_file} ({os.path.getsize(image_file)/1024:.1f} KB)\")\n",
    "else:\n",
    "    print(f\"{image_file} already exists\")"
   ]
  },
  {
   "cell_type": "code",
   "execution_count": 3,
   "metadata": {},
   "outputs": [
    {
     "name": "stdout",
     "output_type": "stream",
     "text": [
      "Downloading official Twitter data...\n",
      "Download complete! Size: 10.1 MB\n",
      "Line count: 2354\n",
      "Size check: 10.1 MB (should be ~52.5)\n",
      "First 100 chars: {\"created_at\": \"Tue Aug 01 16:23:56 +0000 2017\", \"id\": 892420643555336193, \"id_str\": \"89242064355533...\n"
     ]
    }
   ],
   "source": [
    "import os\n",
    "url = \"https://video.udacity-data.com/topher/2018/November/5be5fb7d_tweet-json/tweet-json.txt\"\n",
    "save_name = \"tweet_json.txt\"\n",
    "\n",
    "print(\"Downloading official Twitter data...\")\n",
    "response = requests.get(url)\n",
    "with open(save_name, \"wb\") as f:\n",
    "    f.write(response.content)\n",
    "\n",
    "# Verify\n",
    "size_mb = os.path.getsize(save_name) / (1024 * 1024)\n",
    "print(f\"Download complete! Size: {size_mb:.1f} MB\")\n",
    "\n",
    "# Count lines\n",
    "with open(save_name, \"r\", encoding=\"utf-8\") as f:\n",
    "    lines = sum(1 for _ in f)\n",
    "print(f\"Line count: {lines}\")\n",
    "size_mb = os.path.getsize('tweet_json.txt') / (1024 * 1024)\n",
    "print(f\"Size check: {size_mb:.1f} MB (should be ~52.5)\")\n",
    "\n",
    "with open('tweet_json.txt', 'r', encoding='utf-8') as f:\n",
    "    first_line = f.readline().strip()\n",
    "    print(f\"First 100 chars: {first_line[:100]}...\")"
   ]
  },
  {
   "cell_type": "code",
   "execution_count": 4,
   "metadata": {},
   "outputs": [],
   "source": [
    "file_path = 'tweet_json.txt'  # MUST be exactly this filename\n",
    "if not os.path.exists(file_path):\n",
    "    print(f\"CRITICAL ERROR: File '{file_path}' not found in:\")\n",
    "    print(os.getcwd())\n",
    "    print(\"\\nFiles in directory:\")\n",
    "    print(os.listdir())\n",
    "    print(\"Not working!\")\n",
    "    raise SystemExit(\"Execution stopped - missing required file\")"
   ]
  },
  {
   "cell_type": "code",
   "execution_count": 5,
   "metadata": {
    "scrolled": false
   },
   "outputs": [
    {
     "name": "stdout",
     "output_type": "stream",
     "text": [
      "Processing Twitter data...\n",
      "\n",
      "==================================================\n",
      "TWITTER API DATA PROCESSING REPORT\n",
      "==================================================\n",
      "File processed: tweet_json.txt\n",
      "Size: 10.1 MB\n",
      "Valid tweets processed: 2354\n",
      "Problematic lines skipped: 0\n",
      "Missing values: 0\n",
      "\n",
      "First 3 tweets:\n",
      "   favorite_count  retweet_count            tweet_id\n",
      "0           39467           8853  892420643555336193\n",
      "1           33819           6514  892177421306343426\n",
      "2           25461           4328  891815181378084864\n",
      "\n",
      "Summary statistics:\n",
      "       favorite_count  retweet_count\n",
      "count     2354.000000    2354.000000\n",
      "mean      8080.968564    3164.797366\n",
      "std      11814.771334    5284.770364\n",
      "min          0.000000       0.000000\n",
      "25%       1415.000000     624.500000\n",
      "50%       3603.500000    1473.500000\n",
      "75%      10122.250000    3652.000000\n",
      "max     132810.000000   79515.000000\n"
     ]
    }
   ],
   "source": [
    "#Import Tweepy\n",
    "import tweepy\n",
    "tweet_data = []\n",
    "valid_count = 0\n",
    "problem_lines = 0\n",
    "\n",
    "print(\"Processing Twitter data...\")\n",
    "with open(file_path, 'r', encoding='utf-8') as file:\n",
    "    for line in file:\n",
    "        line = line.strip()\n",
    "        if not line:\n",
    "            continue\n",
    "            \n",
    "        try:\n",
    "            tweet = json.loads(line)\n",
    "            tweet_id = str(tweet['id']) \n",
    "            retweet_count = tweet.get('retweet_count', 0)\n",
    "            favorite_count = tweet.get('favorite_count', 0)\n",
    "            \n",
    "            tweet_data.append({\n",
    "                'tweet_id': tweet_id,\n",
    "                'retweet_count': retweet_count,\n",
    "                'favorite_count': favorite_count\n",
    "            })\n",
    "            valid_count += 1\n",
    "        except (json.JSONDecodeError, KeyError) as e:\n",
    "            problem_lines += 1\n",
    "            continue\n",
    "\n",
    "api_data = pd.DataFrame(tweet_data)\n",
    "\n",
    "print(\"\\n\" + \"=\"*50)\n",
    "print(\"TWITTER API DATA PROCESSING REPORT\")\n",
    "print(\"=\"*50)\n",
    "print(f\"File processed: {file_path}\")\n",
    "print(f\"Size: {os.path.getsize(file_path)/ (1024*1024):.1f} MB\")\n",
    "print(f\"Valid tweets processed: {valid_count}\")\n",
    "print(f\"Problematic lines skipped: {problem_lines}\")\n",
    "print(f\"Missing values: {api_data.isnull().sum().sum()}\")\n",
    "\n",
    "if valid_count > 0:\n",
    "    print(\"\\nFirst 3 tweets:\")\n",
    "    print(api_data.head(3))\n",
    "    print(\"\\nSummary statistics:\")\n",
    "    print(api_data.describe())\n",
    "\n",
    "    if 'archive_df' in globals():\n",
    "        try:\n",
    "            archive_ids = set(archive_df['tweet_id'].astype(str))\n",
    "            api_ids = set(api_data['tweet_id'])\n",
    "            missing = archive_ids - api_ids\n",
    "            print(f\"\\nTweets in archive missing from API data: {len(missing)}\")\n",
    "            if len(missing) > 0:\n",
    "                print(\"Example missing IDs:\", list(missing)[:3])\n",
    "        except Exception as e:\n",
    "            print(f\"\\nArchive comparison error: {e}\")\n",
    "else:\n",
    "    print(\"\\n Not working!\")"
   ]
  },
  {
   "cell_type": "markdown",
   "metadata": {
    "extensions": {
     "jupyter_dashboards": {
      "version": 1,
      "views": {
       "grid_default": {
        "col": 4,
        "height": 4,
        "hidden": false,
        "row": 28,
        "width": 4
       },
       "report_default": {
        "hidden": false
       }
      }
     }
    }
   },
   "source": [
    "## Assessing Data"
   ]
  },
  {
   "cell_type": "code",
   "execution_count": 6,
   "metadata": {},
   "outputs": [
    {
     "name": "stdout",
     "output_type": "stream",
     "text": [
      "\n",
      "\n",
      "DATA ASSESSMENT REPORT FOR ALL DATASETS\n",
      "\n",
      "============================================================\n",
      "ASSESSING DATASET: TWITTER ARCHIVE\n",
      "============================================================\n",
      "\n",
      "VISUAL ASSESSMENT:\n",
      "\n",
      "First 3 rows:\n"
     ]
    },
    {
     "data": {
      "text/html": [
       "<div>\n",
       "<style scoped>\n",
       "    .dataframe tbody tr th:only-of-type {\n",
       "        vertical-align: middle;\n",
       "    }\n",
       "\n",
       "    .dataframe tbody tr th {\n",
       "        vertical-align: top;\n",
       "    }\n",
       "\n",
       "    .dataframe thead th {\n",
       "        text-align: right;\n",
       "    }\n",
       "</style>\n",
       "<table border=\"1\" class=\"dataframe\">\n",
       "  <thead>\n",
       "    <tr style=\"text-align: right;\">\n",
       "      <th></th>\n",
       "      <th>tweet_id</th>\n",
       "      <th>in_reply_to_status_id</th>\n",
       "      <th>in_reply_to_user_id</th>\n",
       "      <th>timestamp</th>\n",
       "      <th>source</th>\n",
       "      <th>text</th>\n",
       "      <th>retweeted_status_id</th>\n",
       "      <th>retweeted_status_user_id</th>\n",
       "      <th>retweeted_status_timestamp</th>\n",
       "      <th>expanded_urls</th>\n",
       "      <th>rating_numerator</th>\n",
       "      <th>rating_denominator</th>\n",
       "      <th>name</th>\n",
       "      <th>doggo</th>\n",
       "      <th>floofer</th>\n",
       "      <th>pupper</th>\n",
       "      <th>puppo</th>\n",
       "    </tr>\n",
       "  </thead>\n",
       "  <tbody>\n",
       "    <tr>\n",
       "      <th>0</th>\n",
       "      <td>892420643555336193</td>\n",
       "      <td>NaN</td>\n",
       "      <td>NaN</td>\n",
       "      <td>2017-08-01 16:23:56 +0000</td>\n",
       "      <td>&lt;a href=\"http://twitter.com/download/iphone\" r...</td>\n",
       "      <td>This is Phineas. He's a mystical boy. Only eve...</td>\n",
       "      <td>NaN</td>\n",
       "      <td>NaN</td>\n",
       "      <td>NaN</td>\n",
       "      <td>https://twitter.com/dog_rates/status/892420643...</td>\n",
       "      <td>13</td>\n",
       "      <td>10</td>\n",
       "      <td>Phineas</td>\n",
       "      <td>None</td>\n",
       "      <td>None</td>\n",
       "      <td>None</td>\n",
       "      <td>None</td>\n",
       "    </tr>\n",
       "    <tr>\n",
       "      <th>1</th>\n",
       "      <td>892177421306343426</td>\n",
       "      <td>NaN</td>\n",
       "      <td>NaN</td>\n",
       "      <td>2017-08-01 00:17:27 +0000</td>\n",
       "      <td>&lt;a href=\"http://twitter.com/download/iphone\" r...</td>\n",
       "      <td>This is Tilly. She's just checking pup on you....</td>\n",
       "      <td>NaN</td>\n",
       "      <td>NaN</td>\n",
       "      <td>NaN</td>\n",
       "      <td>https://twitter.com/dog_rates/status/892177421...</td>\n",
       "      <td>13</td>\n",
       "      <td>10</td>\n",
       "      <td>Tilly</td>\n",
       "      <td>None</td>\n",
       "      <td>None</td>\n",
       "      <td>None</td>\n",
       "      <td>None</td>\n",
       "    </tr>\n",
       "    <tr>\n",
       "      <th>2</th>\n",
       "      <td>891815181378084864</td>\n",
       "      <td>NaN</td>\n",
       "      <td>NaN</td>\n",
       "      <td>2017-07-31 00:18:03 +0000</td>\n",
       "      <td>&lt;a href=\"http://twitter.com/download/iphone\" r...</td>\n",
       "      <td>This is Archie. He is a rare Norwegian Pouncin...</td>\n",
       "      <td>NaN</td>\n",
       "      <td>NaN</td>\n",
       "      <td>NaN</td>\n",
       "      <td>https://twitter.com/dog_rates/status/891815181...</td>\n",
       "      <td>12</td>\n",
       "      <td>10</td>\n",
       "      <td>Archie</td>\n",
       "      <td>None</td>\n",
       "      <td>None</td>\n",
       "      <td>None</td>\n",
       "      <td>None</td>\n",
       "    </tr>\n",
       "  </tbody>\n",
       "</table>\n",
       "</div>"
      ],
      "text/plain": [
       "             tweet_id  in_reply_to_status_id  in_reply_to_user_id  \\\n",
       "0  892420643555336193                    NaN                  NaN   \n",
       "1  892177421306343426                    NaN                  NaN   \n",
       "2  891815181378084864                    NaN                  NaN   \n",
       "\n",
       "                   timestamp  \\\n",
       "0  2017-08-01 16:23:56 +0000   \n",
       "1  2017-08-01 00:17:27 +0000   \n",
       "2  2017-07-31 00:18:03 +0000   \n",
       "\n",
       "                                              source  \\\n",
       "0  <a href=\"http://twitter.com/download/iphone\" r...   \n",
       "1  <a href=\"http://twitter.com/download/iphone\" r...   \n",
       "2  <a href=\"http://twitter.com/download/iphone\" r...   \n",
       "\n",
       "                                                text  retweeted_status_id  \\\n",
       "0  This is Phineas. He's a mystical boy. Only eve...                  NaN   \n",
       "1  This is Tilly. She's just checking pup on you....                  NaN   \n",
       "2  This is Archie. He is a rare Norwegian Pouncin...                  NaN   \n",
       "\n",
       "   retweeted_status_user_id retweeted_status_timestamp  \\\n",
       "0                       NaN                        NaN   \n",
       "1                       NaN                        NaN   \n",
       "2                       NaN                        NaN   \n",
       "\n",
       "                                       expanded_urls  rating_numerator  \\\n",
       "0  https://twitter.com/dog_rates/status/892420643...                13   \n",
       "1  https://twitter.com/dog_rates/status/892177421...                13   \n",
       "2  https://twitter.com/dog_rates/status/891815181...                12   \n",
       "\n",
       "   rating_denominator     name doggo floofer pupper puppo  \n",
       "0                  10  Phineas  None    None   None  None  \n",
       "1                  10    Tilly  None    None   None  None  \n",
       "2                  10   Archie  None    None   None  None  "
      ]
     },
     "metadata": {},
     "output_type": "display_data"
    },
    {
     "name": "stdout",
     "output_type": "stream",
     "text": [
      "\n",
      "Random 3 rows:\n"
     ]
    },
    {
     "data": {
      "text/html": [
       "<div>\n",
       "<style scoped>\n",
       "    .dataframe tbody tr th:only-of-type {\n",
       "        vertical-align: middle;\n",
       "    }\n",
       "\n",
       "    .dataframe tbody tr th {\n",
       "        vertical-align: top;\n",
       "    }\n",
       "\n",
       "    .dataframe thead th {\n",
       "        text-align: right;\n",
       "    }\n",
       "</style>\n",
       "<table border=\"1\" class=\"dataframe\">\n",
       "  <thead>\n",
       "    <tr style=\"text-align: right;\">\n",
       "      <th></th>\n",
       "      <th>tweet_id</th>\n",
       "      <th>in_reply_to_status_id</th>\n",
       "      <th>in_reply_to_user_id</th>\n",
       "      <th>timestamp</th>\n",
       "      <th>source</th>\n",
       "      <th>text</th>\n",
       "      <th>retweeted_status_id</th>\n",
       "      <th>retweeted_status_user_id</th>\n",
       "      <th>retweeted_status_timestamp</th>\n",
       "      <th>expanded_urls</th>\n",
       "      <th>rating_numerator</th>\n",
       "      <th>rating_denominator</th>\n",
       "      <th>name</th>\n",
       "      <th>doggo</th>\n",
       "      <th>floofer</th>\n",
       "      <th>pupper</th>\n",
       "      <th>puppo</th>\n",
       "    </tr>\n",
       "  </thead>\n",
       "  <tbody>\n",
       "    <tr>\n",
       "      <th>1204</th>\n",
       "      <td>716080869887381504</td>\n",
       "      <td>NaN</td>\n",
       "      <td>NaN</td>\n",
       "      <td>2016-04-02 01:52:38 +0000</td>\n",
       "      <td>&lt;a href=\"http://twitter.com/download/iphone\" r...</td>\n",
       "      <td>Here's a super majestic doggo and a sunset 11/...</td>\n",
       "      <td>NaN</td>\n",
       "      <td>NaN</td>\n",
       "      <td>NaN</td>\n",
       "      <td>https://twitter.com/dog_rates/status/716080869...</td>\n",
       "      <td>11</td>\n",
       "      <td>10</td>\n",
       "      <td>None</td>\n",
       "      <td>doggo</td>\n",
       "      <td>None</td>\n",
       "      <td>None</td>\n",
       "      <td>None</td>\n",
       "    </tr>\n",
       "    <tr>\n",
       "      <th>50</th>\n",
       "      <td>882627270321602560</td>\n",
       "      <td>NaN</td>\n",
       "      <td>NaN</td>\n",
       "      <td>2017-07-05 15:48:34 +0000</td>\n",
       "      <td>&lt;a href=\"http://twitter.com/download/iphone\" r...</td>\n",
       "      <td>This is Stanley. He has his first swim lesson ...</td>\n",
       "      <td>NaN</td>\n",
       "      <td>NaN</td>\n",
       "      <td>NaN</td>\n",
       "      <td>https://twitter.com/dog_rates/status/882627270...</td>\n",
       "      <td>13</td>\n",
       "      <td>10</td>\n",
       "      <td>Stanley</td>\n",
       "      <td>None</td>\n",
       "      <td>None</td>\n",
       "      <td>None</td>\n",
       "      <td>None</td>\n",
       "    </tr>\n",
       "    <tr>\n",
       "      <th>812</th>\n",
       "      <td>771136648247640064</td>\n",
       "      <td>NaN</td>\n",
       "      <td>NaN</td>\n",
       "      <td>2016-09-01 00:04:38 +0000</td>\n",
       "      <td>&lt;a href=\"http://twitter.com/download/iphone\" r...</td>\n",
       "      <td>This is Dixie. She wants to be a ship captain....</td>\n",
       "      <td>NaN</td>\n",
       "      <td>NaN</td>\n",
       "      <td>NaN</td>\n",
       "      <td>https://twitter.com/dog_rates/status/771136648...</td>\n",
       "      <td>11</td>\n",
       "      <td>10</td>\n",
       "      <td>Dixie</td>\n",
       "      <td>None</td>\n",
       "      <td>None</td>\n",
       "      <td>None</td>\n",
       "      <td>None</td>\n",
       "    </tr>\n",
       "  </tbody>\n",
       "</table>\n",
       "</div>"
      ],
      "text/plain": [
       "                tweet_id  in_reply_to_status_id  in_reply_to_user_id  \\\n",
       "1204  716080869887381504                    NaN                  NaN   \n",
       "50    882627270321602560                    NaN                  NaN   \n",
       "812   771136648247640064                    NaN                  NaN   \n",
       "\n",
       "                      timestamp  \\\n",
       "1204  2016-04-02 01:52:38 +0000   \n",
       "50    2017-07-05 15:48:34 +0000   \n",
       "812   2016-09-01 00:04:38 +0000   \n",
       "\n",
       "                                                 source  \\\n",
       "1204  <a href=\"http://twitter.com/download/iphone\" r...   \n",
       "50    <a href=\"http://twitter.com/download/iphone\" r...   \n",
       "812   <a href=\"http://twitter.com/download/iphone\" r...   \n",
       "\n",
       "                                                   text  retweeted_status_id  \\\n",
       "1204  Here's a super majestic doggo and a sunset 11/...                  NaN   \n",
       "50    This is Stanley. He has his first swim lesson ...                  NaN   \n",
       "812   This is Dixie. She wants to be a ship captain....                  NaN   \n",
       "\n",
       "      retweeted_status_user_id retweeted_status_timestamp  \\\n",
       "1204                       NaN                        NaN   \n",
       "50                         NaN                        NaN   \n",
       "812                        NaN                        NaN   \n",
       "\n",
       "                                          expanded_urls  rating_numerator  \\\n",
       "1204  https://twitter.com/dog_rates/status/716080869...                11   \n",
       "50    https://twitter.com/dog_rates/status/882627270...                13   \n",
       "812   https://twitter.com/dog_rates/status/771136648...                11   \n",
       "\n",
       "      rating_denominator     name  doggo floofer pupper puppo  \n",
       "1204                  10     None  doggo    None   None  None  \n",
       "50                    10  Stanley   None    None   None  None  \n",
       "812                   10    Dixie   None    None   None  None  "
      ]
     },
     "metadata": {},
     "output_type": "display_data"
    },
    {
     "name": "stdout",
     "output_type": "stream",
     "text": [
      "\n",
      "Last 3 rows:\n"
     ]
    },
    {
     "data": {
      "text/html": [
       "<div>\n",
       "<style scoped>\n",
       "    .dataframe tbody tr th:only-of-type {\n",
       "        vertical-align: middle;\n",
       "    }\n",
       "\n",
       "    .dataframe tbody tr th {\n",
       "        vertical-align: top;\n",
       "    }\n",
       "\n",
       "    .dataframe thead th {\n",
       "        text-align: right;\n",
       "    }\n",
       "</style>\n",
       "<table border=\"1\" class=\"dataframe\">\n",
       "  <thead>\n",
       "    <tr style=\"text-align: right;\">\n",
       "      <th></th>\n",
       "      <th>tweet_id</th>\n",
       "      <th>in_reply_to_status_id</th>\n",
       "      <th>in_reply_to_user_id</th>\n",
       "      <th>timestamp</th>\n",
       "      <th>source</th>\n",
       "      <th>text</th>\n",
       "      <th>retweeted_status_id</th>\n",
       "      <th>retweeted_status_user_id</th>\n",
       "      <th>retweeted_status_timestamp</th>\n",
       "      <th>expanded_urls</th>\n",
       "      <th>rating_numerator</th>\n",
       "      <th>rating_denominator</th>\n",
       "      <th>name</th>\n",
       "      <th>doggo</th>\n",
       "      <th>floofer</th>\n",
       "      <th>pupper</th>\n",
       "      <th>puppo</th>\n",
       "    </tr>\n",
       "  </thead>\n",
       "  <tbody>\n",
       "    <tr>\n",
       "      <th>2353</th>\n",
       "      <td>666033412701032449</td>\n",
       "      <td>NaN</td>\n",
       "      <td>NaN</td>\n",
       "      <td>2015-11-15 23:21:54 +0000</td>\n",
       "      <td>&lt;a href=\"http://twitter.com/download/iphone\" r...</td>\n",
       "      <td>Here is a very happy pup. Big fan of well-main...</td>\n",
       "      <td>NaN</td>\n",
       "      <td>NaN</td>\n",
       "      <td>NaN</td>\n",
       "      <td>https://twitter.com/dog_rates/status/666033412...</td>\n",
       "      <td>9</td>\n",
       "      <td>10</td>\n",
       "      <td>a</td>\n",
       "      <td>None</td>\n",
       "      <td>None</td>\n",
       "      <td>None</td>\n",
       "      <td>None</td>\n",
       "    </tr>\n",
       "    <tr>\n",
       "      <th>2354</th>\n",
       "      <td>666029285002620928</td>\n",
       "      <td>NaN</td>\n",
       "      <td>NaN</td>\n",
       "      <td>2015-11-15 23:05:30 +0000</td>\n",
       "      <td>&lt;a href=\"http://twitter.com/download/iphone\" r...</td>\n",
       "      <td>This is a western brown Mitsubishi terrier. Up...</td>\n",
       "      <td>NaN</td>\n",
       "      <td>NaN</td>\n",
       "      <td>NaN</td>\n",
       "      <td>https://twitter.com/dog_rates/status/666029285...</td>\n",
       "      <td>7</td>\n",
       "      <td>10</td>\n",
       "      <td>a</td>\n",
       "      <td>None</td>\n",
       "      <td>None</td>\n",
       "      <td>None</td>\n",
       "      <td>None</td>\n",
       "    </tr>\n",
       "    <tr>\n",
       "      <th>2355</th>\n",
       "      <td>666020888022790149</td>\n",
       "      <td>NaN</td>\n",
       "      <td>NaN</td>\n",
       "      <td>2015-11-15 22:32:08 +0000</td>\n",
       "      <td>&lt;a href=\"http://twitter.com/download/iphone\" r...</td>\n",
       "      <td>Here we have a Japanese Irish Setter. Lost eye...</td>\n",
       "      <td>NaN</td>\n",
       "      <td>NaN</td>\n",
       "      <td>NaN</td>\n",
       "      <td>https://twitter.com/dog_rates/status/666020888...</td>\n",
       "      <td>8</td>\n",
       "      <td>10</td>\n",
       "      <td>None</td>\n",
       "      <td>None</td>\n",
       "      <td>None</td>\n",
       "      <td>None</td>\n",
       "      <td>None</td>\n",
       "    </tr>\n",
       "  </tbody>\n",
       "</table>\n",
       "</div>"
      ],
      "text/plain": [
       "                tweet_id  in_reply_to_status_id  in_reply_to_user_id  \\\n",
       "2353  666033412701032449                    NaN                  NaN   \n",
       "2354  666029285002620928                    NaN                  NaN   \n",
       "2355  666020888022790149                    NaN                  NaN   \n",
       "\n",
       "                      timestamp  \\\n",
       "2353  2015-11-15 23:21:54 +0000   \n",
       "2354  2015-11-15 23:05:30 +0000   \n",
       "2355  2015-11-15 22:32:08 +0000   \n",
       "\n",
       "                                                 source  \\\n",
       "2353  <a href=\"http://twitter.com/download/iphone\" r...   \n",
       "2354  <a href=\"http://twitter.com/download/iphone\" r...   \n",
       "2355  <a href=\"http://twitter.com/download/iphone\" r...   \n",
       "\n",
       "                                                   text  retweeted_status_id  \\\n",
       "2353  Here is a very happy pup. Big fan of well-main...                  NaN   \n",
       "2354  This is a western brown Mitsubishi terrier. Up...                  NaN   \n",
       "2355  Here we have a Japanese Irish Setter. Lost eye...                  NaN   \n",
       "\n",
       "      retweeted_status_user_id retweeted_status_timestamp  \\\n",
       "2353                       NaN                        NaN   \n",
       "2354                       NaN                        NaN   \n",
       "2355                       NaN                        NaN   \n",
       "\n",
       "                                          expanded_urls  rating_numerator  \\\n",
       "2353  https://twitter.com/dog_rates/status/666033412...                 9   \n",
       "2354  https://twitter.com/dog_rates/status/666029285...                 7   \n",
       "2355  https://twitter.com/dog_rates/status/666020888...                 8   \n",
       "\n",
       "      rating_denominator  name doggo floofer pupper puppo  \n",
       "2353                  10     a  None    None   None  None  \n",
       "2354                  10     a  None    None   None  None  \n",
       "2355                  10  None  None    None   None  None  "
      ]
     },
     "metadata": {},
     "output_type": "display_data"
    },
    {
     "name": "stdout",
     "output_type": "stream",
     "text": [
      "\n",
      "PROGRAMMATIC ASSESSMENT:\n",
      "\n",
      "1. Data types and memory usage (info()):\n",
      "<class 'pandas.core.frame.DataFrame'>\n",
      "RangeIndex: 2356 entries, 0 to 2355\n",
      "Data columns (total 17 columns):\n",
      "tweet_id                      2356 non-null int64\n",
      "in_reply_to_status_id         78 non-null float64\n",
      "in_reply_to_user_id           78 non-null float64\n",
      "timestamp                     2356 non-null object\n",
      "source                        2356 non-null object\n",
      "text                          2356 non-null object\n",
      "retweeted_status_id           181 non-null float64\n",
      "retweeted_status_user_id      181 non-null float64\n",
      "retweeted_status_timestamp    181 non-null object\n",
      "expanded_urls                 2297 non-null object\n",
      "rating_numerator              2356 non-null int64\n",
      "rating_denominator            2356 non-null int64\n",
      "name                          2356 non-null object\n",
      "doggo                         2356 non-null object\n",
      "floofer                       2356 non-null object\n",
      "pupper                        2356 non-null object\n",
      "puppo                         2356 non-null object\n",
      "dtypes: float64(4), int64(3), object(10)\n",
      "memory usage: 313.0+ KB\n",
      "None\n",
      "\n",
      "2. Statistical summary (describe()):\n"
     ]
    },
    {
     "data": {
      "text/html": [
       "<div>\n",
       "<style scoped>\n",
       "    .dataframe tbody tr th:only-of-type {\n",
       "        vertical-align: middle;\n",
       "    }\n",
       "\n",
       "    .dataframe tbody tr th {\n",
       "        vertical-align: top;\n",
       "    }\n",
       "\n",
       "    .dataframe thead th {\n",
       "        text-align: right;\n",
       "    }\n",
       "</style>\n",
       "<table border=\"1\" class=\"dataframe\">\n",
       "  <thead>\n",
       "    <tr style=\"text-align: right;\">\n",
       "      <th></th>\n",
       "      <th>tweet_id</th>\n",
       "      <th>in_reply_to_status_id</th>\n",
       "      <th>in_reply_to_user_id</th>\n",
       "      <th>timestamp</th>\n",
       "      <th>source</th>\n",
       "      <th>text</th>\n",
       "      <th>retweeted_status_id</th>\n",
       "      <th>retweeted_status_user_id</th>\n",
       "      <th>retweeted_status_timestamp</th>\n",
       "      <th>expanded_urls</th>\n",
       "      <th>rating_numerator</th>\n",
       "      <th>rating_denominator</th>\n",
       "      <th>name</th>\n",
       "      <th>doggo</th>\n",
       "      <th>floofer</th>\n",
       "      <th>pupper</th>\n",
       "      <th>puppo</th>\n",
       "    </tr>\n",
       "  </thead>\n",
       "  <tbody>\n",
       "    <tr>\n",
       "      <th>count</th>\n",
       "      <td>2.356000e+03</td>\n",
       "      <td>7.800000e+01</td>\n",
       "      <td>7.800000e+01</td>\n",
       "      <td>2356</td>\n",
       "      <td>2356</td>\n",
       "      <td>2356</td>\n",
       "      <td>1.810000e+02</td>\n",
       "      <td>1.810000e+02</td>\n",
       "      <td>181</td>\n",
       "      <td>2297</td>\n",
       "      <td>2356.000000</td>\n",
       "      <td>2356.000000</td>\n",
       "      <td>2356</td>\n",
       "      <td>2356</td>\n",
       "      <td>2356</td>\n",
       "      <td>2356</td>\n",
       "      <td>2356</td>\n",
       "    </tr>\n",
       "    <tr>\n",
       "      <th>unique</th>\n",
       "      <td>NaN</td>\n",
       "      <td>NaN</td>\n",
       "      <td>NaN</td>\n",
       "      <td>2356</td>\n",
       "      <td>4</td>\n",
       "      <td>2356</td>\n",
       "      <td>NaN</td>\n",
       "      <td>NaN</td>\n",
       "      <td>181</td>\n",
       "      <td>2218</td>\n",
       "      <td>NaN</td>\n",
       "      <td>NaN</td>\n",
       "      <td>957</td>\n",
       "      <td>2</td>\n",
       "      <td>2</td>\n",
       "      <td>2</td>\n",
       "      <td>2</td>\n",
       "    </tr>\n",
       "    <tr>\n",
       "      <th>top</th>\n",
       "      <td>NaN</td>\n",
       "      <td>NaN</td>\n",
       "      <td>NaN</td>\n",
       "      <td>2015-11-18 16:12:51 +0000</td>\n",
       "      <td>&lt;a href=\"http://twitter.com/download/iphone\" r...</td>\n",
       "      <td>Meet Bruiser &amp;amp; Charlie. They are the best ...</td>\n",
       "      <td>NaN</td>\n",
       "      <td>NaN</td>\n",
       "      <td>2015-11-16 04:02:55 +0000</td>\n",
       "      <td>https://www.gofundme.com/3yd6y1c,https://twitt...</td>\n",
       "      <td>NaN</td>\n",
       "      <td>NaN</td>\n",
       "      <td>None</td>\n",
       "      <td>None</td>\n",
       "      <td>None</td>\n",
       "      <td>None</td>\n",
       "      <td>None</td>\n",
       "    </tr>\n",
       "    <tr>\n",
       "      <th>freq</th>\n",
       "      <td>NaN</td>\n",
       "      <td>NaN</td>\n",
       "      <td>NaN</td>\n",
       "      <td>1</td>\n",
       "      <td>2221</td>\n",
       "      <td>1</td>\n",
       "      <td>NaN</td>\n",
       "      <td>NaN</td>\n",
       "      <td>1</td>\n",
       "      <td>2</td>\n",
       "      <td>NaN</td>\n",
       "      <td>NaN</td>\n",
       "      <td>745</td>\n",
       "      <td>2259</td>\n",
       "      <td>2346</td>\n",
       "      <td>2099</td>\n",
       "      <td>2326</td>\n",
       "    </tr>\n",
       "    <tr>\n",
       "      <th>mean</th>\n",
       "      <td>7.427716e+17</td>\n",
       "      <td>7.455079e+17</td>\n",
       "      <td>2.014171e+16</td>\n",
       "      <td>NaN</td>\n",
       "      <td>NaN</td>\n",
       "      <td>NaN</td>\n",
       "      <td>7.720400e+17</td>\n",
       "      <td>1.241698e+16</td>\n",
       "      <td>NaN</td>\n",
       "      <td>NaN</td>\n",
       "      <td>13.126486</td>\n",
       "      <td>10.455433</td>\n",
       "      <td>NaN</td>\n",
       "      <td>NaN</td>\n",
       "      <td>NaN</td>\n",
       "      <td>NaN</td>\n",
       "      <td>NaN</td>\n",
       "    </tr>\n",
       "    <tr>\n",
       "      <th>std</th>\n",
       "      <td>6.856705e+16</td>\n",
       "      <td>7.582492e+16</td>\n",
       "      <td>1.252797e+17</td>\n",
       "      <td>NaN</td>\n",
       "      <td>NaN</td>\n",
       "      <td>NaN</td>\n",
       "      <td>6.236928e+16</td>\n",
       "      <td>9.599254e+16</td>\n",
       "      <td>NaN</td>\n",
       "      <td>NaN</td>\n",
       "      <td>45.876648</td>\n",
       "      <td>6.745237</td>\n",
       "      <td>NaN</td>\n",
       "      <td>NaN</td>\n",
       "      <td>NaN</td>\n",
       "      <td>NaN</td>\n",
       "      <td>NaN</td>\n",
       "    </tr>\n",
       "    <tr>\n",
       "      <th>min</th>\n",
       "      <td>6.660209e+17</td>\n",
       "      <td>6.658147e+17</td>\n",
       "      <td>1.185634e+07</td>\n",
       "      <td>NaN</td>\n",
       "      <td>NaN</td>\n",
       "      <td>NaN</td>\n",
       "      <td>6.661041e+17</td>\n",
       "      <td>7.832140e+05</td>\n",
       "      <td>NaN</td>\n",
       "      <td>NaN</td>\n",
       "      <td>0.000000</td>\n",
       "      <td>0.000000</td>\n",
       "      <td>NaN</td>\n",
       "      <td>NaN</td>\n",
       "      <td>NaN</td>\n",
       "      <td>NaN</td>\n",
       "      <td>NaN</td>\n",
       "    </tr>\n",
       "    <tr>\n",
       "      <th>25%</th>\n",
       "      <td>6.783989e+17</td>\n",
       "      <td>6.757419e+17</td>\n",
       "      <td>3.086374e+08</td>\n",
       "      <td>NaN</td>\n",
       "      <td>NaN</td>\n",
       "      <td>NaN</td>\n",
       "      <td>7.186315e+17</td>\n",
       "      <td>4.196984e+09</td>\n",
       "      <td>NaN</td>\n",
       "      <td>NaN</td>\n",
       "      <td>10.000000</td>\n",
       "      <td>10.000000</td>\n",
       "      <td>NaN</td>\n",
       "      <td>NaN</td>\n",
       "      <td>NaN</td>\n",
       "      <td>NaN</td>\n",
       "      <td>NaN</td>\n",
       "    </tr>\n",
       "    <tr>\n",
       "      <th>50%</th>\n",
       "      <td>7.196279e+17</td>\n",
       "      <td>7.038708e+17</td>\n",
       "      <td>4.196984e+09</td>\n",
       "      <td>NaN</td>\n",
       "      <td>NaN</td>\n",
       "      <td>NaN</td>\n",
       "      <td>7.804657e+17</td>\n",
       "      <td>4.196984e+09</td>\n",
       "      <td>NaN</td>\n",
       "      <td>NaN</td>\n",
       "      <td>11.000000</td>\n",
       "      <td>10.000000</td>\n",
       "      <td>NaN</td>\n",
       "      <td>NaN</td>\n",
       "      <td>NaN</td>\n",
       "      <td>NaN</td>\n",
       "      <td>NaN</td>\n",
       "    </tr>\n",
       "    <tr>\n",
       "      <th>75%</th>\n",
       "      <td>7.993373e+17</td>\n",
       "      <td>8.257804e+17</td>\n",
       "      <td>4.196984e+09</td>\n",
       "      <td>NaN</td>\n",
       "      <td>NaN</td>\n",
       "      <td>NaN</td>\n",
       "      <td>8.203146e+17</td>\n",
       "      <td>4.196984e+09</td>\n",
       "      <td>NaN</td>\n",
       "      <td>NaN</td>\n",
       "      <td>12.000000</td>\n",
       "      <td>10.000000</td>\n",
       "      <td>NaN</td>\n",
       "      <td>NaN</td>\n",
       "      <td>NaN</td>\n",
       "      <td>NaN</td>\n",
       "      <td>NaN</td>\n",
       "    </tr>\n",
       "    <tr>\n",
       "      <th>max</th>\n",
       "      <td>8.924206e+17</td>\n",
       "      <td>8.862664e+17</td>\n",
       "      <td>8.405479e+17</td>\n",
       "      <td>NaN</td>\n",
       "      <td>NaN</td>\n",
       "      <td>NaN</td>\n",
       "      <td>8.874740e+17</td>\n",
       "      <td>7.874618e+17</td>\n",
       "      <td>NaN</td>\n",
       "      <td>NaN</td>\n",
       "      <td>1776.000000</td>\n",
       "      <td>170.000000</td>\n",
       "      <td>NaN</td>\n",
       "      <td>NaN</td>\n",
       "      <td>NaN</td>\n",
       "      <td>NaN</td>\n",
       "      <td>NaN</td>\n",
       "    </tr>\n",
       "  </tbody>\n",
       "</table>\n",
       "</div>"
      ],
      "text/plain": [
       "            tweet_id  in_reply_to_status_id  in_reply_to_user_id  \\\n",
       "count   2.356000e+03           7.800000e+01         7.800000e+01   \n",
       "unique           NaN                    NaN                  NaN   \n",
       "top              NaN                    NaN                  NaN   \n",
       "freq             NaN                    NaN                  NaN   \n",
       "mean    7.427716e+17           7.455079e+17         2.014171e+16   \n",
       "std     6.856705e+16           7.582492e+16         1.252797e+17   \n",
       "min     6.660209e+17           6.658147e+17         1.185634e+07   \n",
       "25%     6.783989e+17           6.757419e+17         3.086374e+08   \n",
       "50%     7.196279e+17           7.038708e+17         4.196984e+09   \n",
       "75%     7.993373e+17           8.257804e+17         4.196984e+09   \n",
       "max     8.924206e+17           8.862664e+17         8.405479e+17   \n",
       "\n",
       "                        timestamp  \\\n",
       "count                        2356   \n",
       "unique                       2356   \n",
       "top     2015-11-18 16:12:51 +0000   \n",
       "freq                            1   \n",
       "mean                          NaN   \n",
       "std                           NaN   \n",
       "min                           NaN   \n",
       "25%                           NaN   \n",
       "50%                           NaN   \n",
       "75%                           NaN   \n",
       "max                           NaN   \n",
       "\n",
       "                                                   source  \\\n",
       "count                                                2356   \n",
       "unique                                                  4   \n",
       "top     <a href=\"http://twitter.com/download/iphone\" r...   \n",
       "freq                                                 2221   \n",
       "mean                                                  NaN   \n",
       "std                                                   NaN   \n",
       "min                                                   NaN   \n",
       "25%                                                   NaN   \n",
       "50%                                                   NaN   \n",
       "75%                                                   NaN   \n",
       "max                                                   NaN   \n",
       "\n",
       "                                                     text  \\\n",
       "count                                                2356   \n",
       "unique                                               2356   \n",
       "top     Meet Bruiser &amp; Charlie. They are the best ...   \n",
       "freq                                                    1   \n",
       "mean                                                  NaN   \n",
       "std                                                   NaN   \n",
       "min                                                   NaN   \n",
       "25%                                                   NaN   \n",
       "50%                                                   NaN   \n",
       "75%                                                   NaN   \n",
       "max                                                   NaN   \n",
       "\n",
       "        retweeted_status_id  retweeted_status_user_id  \\\n",
       "count          1.810000e+02              1.810000e+02   \n",
       "unique                  NaN                       NaN   \n",
       "top                     NaN                       NaN   \n",
       "freq                    NaN                       NaN   \n",
       "mean           7.720400e+17              1.241698e+16   \n",
       "std            6.236928e+16              9.599254e+16   \n",
       "min            6.661041e+17              7.832140e+05   \n",
       "25%            7.186315e+17              4.196984e+09   \n",
       "50%            7.804657e+17              4.196984e+09   \n",
       "75%            8.203146e+17              4.196984e+09   \n",
       "max            8.874740e+17              7.874618e+17   \n",
       "\n",
       "       retweeted_status_timestamp  \\\n",
       "count                         181   \n",
       "unique                        181   \n",
       "top     2015-11-16 04:02:55 +0000   \n",
       "freq                            1   \n",
       "mean                          NaN   \n",
       "std                           NaN   \n",
       "min                           NaN   \n",
       "25%                           NaN   \n",
       "50%                           NaN   \n",
       "75%                           NaN   \n",
       "max                           NaN   \n",
       "\n",
       "                                            expanded_urls  rating_numerator  \\\n",
       "count                                                2297       2356.000000   \n",
       "unique                                               2218               NaN   \n",
       "top     https://www.gofundme.com/3yd6y1c,https://twitt...               NaN   \n",
       "freq                                                    2               NaN   \n",
       "mean                                                  NaN         13.126486   \n",
       "std                                                   NaN         45.876648   \n",
       "min                                                   NaN          0.000000   \n",
       "25%                                                   NaN         10.000000   \n",
       "50%                                                   NaN         11.000000   \n",
       "75%                                                   NaN         12.000000   \n",
       "max                                                   NaN       1776.000000   \n",
       "\n",
       "        rating_denominator  name doggo floofer pupper puppo  \n",
       "count          2356.000000  2356  2356    2356   2356  2356  \n",
       "unique                 NaN   957     2       2      2     2  \n",
       "top                    NaN  None  None    None   None  None  \n",
       "freq                   NaN   745  2259    2346   2099  2326  \n",
       "mean             10.455433   NaN   NaN     NaN    NaN   NaN  \n",
       "std               6.745237   NaN   NaN     NaN    NaN   NaN  \n",
       "min               0.000000   NaN   NaN     NaN    NaN   NaN  \n",
       "25%              10.000000   NaN   NaN     NaN    NaN   NaN  \n",
       "50%              10.000000   NaN   NaN     NaN    NaN   NaN  \n",
       "75%              10.000000   NaN   NaN     NaN    NaN   NaN  \n",
       "max             170.000000   NaN   NaN     NaN    NaN   NaN  "
      ]
     },
     "metadata": {},
     "output_type": "display_data"
    },
    {
     "name": "stdout",
     "output_type": "stream",
     "text": [
      "\n",
      "3. Missing values (isnull().sum()):\n",
      "tweet_id                         0\n",
      "in_reply_to_status_id         2278\n",
      "in_reply_to_user_id           2278\n",
      "timestamp                        0\n",
      "source                           0\n",
      "text                             0\n",
      "retweeted_status_id           2175\n",
      "retweeted_status_user_id      2175\n",
      "retweeted_status_timestamp    2175\n",
      "expanded_urls                   59\n",
      "rating_numerator                 0\n",
      "rating_denominator               0\n",
      "name                             0\n",
      "doggo                            0\n",
      "floofer                          0\n",
      "pupper                           0\n",
      "puppo                            0\n",
      "dtype: int64\n",
      "\n",
      "4. Duplicate rows (duplicated().sum()):\n",
      "Total duplicates: 0\n",
      "\n",
      "5. Unique values (nunique()):\n",
      "tweet_id                      2356\n",
      "in_reply_to_status_id           77\n",
      "in_reply_to_user_id             31\n",
      "timestamp                     2356\n",
      "source                           4\n",
      "text                          2356\n",
      "retweeted_status_id            181\n",
      "retweeted_status_user_id        25\n",
      "retweeted_status_timestamp     181\n",
      "expanded_urls                 2218\n",
      "rating_numerator                40\n",
      "rating_denominator              18\n",
      "name                           957\n",
      "doggo                            2\n",
      "floofer                          2\n",
      "pupper                           2\n",
      "puppo                            2\n",
      "dtype: int64\n",
      "\n",
      "6.1 Value counts for 'tweet_id':\n",
      "749075273010798592    1\n",
      "741099773336379392    1\n",
      "798644042770751489    1\n",
      "825120256414846976    1\n",
      "769212283578875904    1\n",
      "Name: tweet_id, dtype: int64\n",
      "\n",
      "6.2 Value counts for 'in_reply_to_status_id':\n",
      "6.671522e+17    2\n",
      "8.562860e+17    1\n",
      "8.131273e+17    1\n",
      "6.754971e+17    1\n",
      "6.827884e+17    1\n",
      "Name: in_reply_to_status_id, dtype: int64\n",
      "\n",
      "============================================================\n",
      "ASSESSING DATASET: IMAGE PREDICTIONS\n",
      "============================================================\n",
      "\n",
      "VISUAL ASSESSMENT:\n",
      "\n",
      "First 3 rows:\n"
     ]
    },
    {
     "data": {
      "text/html": [
       "<div>\n",
       "<style scoped>\n",
       "    .dataframe tbody tr th:only-of-type {\n",
       "        vertical-align: middle;\n",
       "    }\n",
       "\n",
       "    .dataframe tbody tr th {\n",
       "        vertical-align: top;\n",
       "    }\n",
       "\n",
       "    .dataframe thead th {\n",
       "        text-align: right;\n",
       "    }\n",
       "</style>\n",
       "<table border=\"1\" class=\"dataframe\">\n",
       "  <thead>\n",
       "    <tr style=\"text-align: right;\">\n",
       "      <th></th>\n",
       "      <th>tweet_id</th>\n",
       "      <th>jpg_url</th>\n",
       "      <th>img_num</th>\n",
       "      <th>p1</th>\n",
       "      <th>p1_conf</th>\n",
       "      <th>p1_dog</th>\n",
       "      <th>p2</th>\n",
       "      <th>p2_conf</th>\n",
       "      <th>p2_dog</th>\n",
       "      <th>p3</th>\n",
       "      <th>p3_conf</th>\n",
       "      <th>p3_dog</th>\n",
       "    </tr>\n",
       "  </thead>\n",
       "  <tbody>\n",
       "    <tr>\n",
       "      <th>0</th>\n",
       "      <td>666020888022790149</td>\n",
       "      <td>https://pbs.twimg.com/media/CT4udn0WwAA0aMy.jpg</td>\n",
       "      <td>1</td>\n",
       "      <td>Welsh_springer_spaniel</td>\n",
       "      <td>0.465074</td>\n",
       "      <td>True</td>\n",
       "      <td>collie</td>\n",
       "      <td>0.156665</td>\n",
       "      <td>True</td>\n",
       "      <td>Shetland_sheepdog</td>\n",
       "      <td>0.061428</td>\n",
       "      <td>True</td>\n",
       "    </tr>\n",
       "    <tr>\n",
       "      <th>1</th>\n",
       "      <td>666029285002620928</td>\n",
       "      <td>https://pbs.twimg.com/media/CT42GRgUYAA5iDo.jpg</td>\n",
       "      <td>1</td>\n",
       "      <td>redbone</td>\n",
       "      <td>0.506826</td>\n",
       "      <td>True</td>\n",
       "      <td>miniature_pinscher</td>\n",
       "      <td>0.074192</td>\n",
       "      <td>True</td>\n",
       "      <td>Rhodesian_ridgeback</td>\n",
       "      <td>0.072010</td>\n",
       "      <td>True</td>\n",
       "    </tr>\n",
       "    <tr>\n",
       "      <th>2</th>\n",
       "      <td>666033412701032449</td>\n",
       "      <td>https://pbs.twimg.com/media/CT4521TWwAEvMyu.jpg</td>\n",
       "      <td>1</td>\n",
       "      <td>German_shepherd</td>\n",
       "      <td>0.596461</td>\n",
       "      <td>True</td>\n",
       "      <td>malinois</td>\n",
       "      <td>0.138584</td>\n",
       "      <td>True</td>\n",
       "      <td>bloodhound</td>\n",
       "      <td>0.116197</td>\n",
       "      <td>True</td>\n",
       "    </tr>\n",
       "  </tbody>\n",
       "</table>\n",
       "</div>"
      ],
      "text/plain": [
       "             tweet_id                                          jpg_url  \\\n",
       "0  666020888022790149  https://pbs.twimg.com/media/CT4udn0WwAA0aMy.jpg   \n",
       "1  666029285002620928  https://pbs.twimg.com/media/CT42GRgUYAA5iDo.jpg   \n",
       "2  666033412701032449  https://pbs.twimg.com/media/CT4521TWwAEvMyu.jpg   \n",
       "\n",
       "   img_num                      p1   p1_conf  p1_dog                  p2  \\\n",
       "0        1  Welsh_springer_spaniel  0.465074    True              collie   \n",
       "1        1                 redbone  0.506826    True  miniature_pinscher   \n",
       "2        1         German_shepherd  0.596461    True            malinois   \n",
       "\n",
       "    p2_conf  p2_dog                   p3   p3_conf  p3_dog  \n",
       "0  0.156665    True    Shetland_sheepdog  0.061428    True  \n",
       "1  0.074192    True  Rhodesian_ridgeback  0.072010    True  \n",
       "2  0.138584    True           bloodhound  0.116197    True  "
      ]
     },
     "metadata": {},
     "output_type": "display_data"
    },
    {
     "name": "stdout",
     "output_type": "stream",
     "text": [
      "\n",
      "Random 3 rows:\n"
     ]
    },
    {
     "data": {
      "text/html": [
       "<div>\n",
       "<style scoped>\n",
       "    .dataframe tbody tr th:only-of-type {\n",
       "        vertical-align: middle;\n",
       "    }\n",
       "\n",
       "    .dataframe tbody tr th {\n",
       "        vertical-align: top;\n",
       "    }\n",
       "\n",
       "    .dataframe thead th {\n",
       "        text-align: right;\n",
       "    }\n",
       "</style>\n",
       "<table border=\"1\" class=\"dataframe\">\n",
       "  <thead>\n",
       "    <tr style=\"text-align: right;\">\n",
       "      <th></th>\n",
       "      <th>tweet_id</th>\n",
       "      <th>jpg_url</th>\n",
       "      <th>img_num</th>\n",
       "      <th>p1</th>\n",
       "      <th>p1_conf</th>\n",
       "      <th>p1_dog</th>\n",
       "      <th>p2</th>\n",
       "      <th>p2_conf</th>\n",
       "      <th>p2_dog</th>\n",
       "      <th>p3</th>\n",
       "      <th>p3_conf</th>\n",
       "      <th>p3_dog</th>\n",
       "    </tr>\n",
       "  </thead>\n",
       "  <tbody>\n",
       "    <tr>\n",
       "      <th>724</th>\n",
       "      <td>686034024800862208</td>\n",
       "      <td>https://pbs.twimg.com/media/CYVIToGWQAAEZ_y.jpg</td>\n",
       "      <td>1</td>\n",
       "      <td>Great_Dane</td>\n",
       "      <td>0.236920</td>\n",
       "      <td>True</td>\n",
       "      <td>Irish_wolfhound</td>\n",
       "      <td>0.117608</td>\n",
       "      <td>True</td>\n",
       "      <td>Greater_Swiss_Mountain_dog</td>\n",
       "      <td>0.103900</td>\n",
       "      <td>True</td>\n",
       "    </tr>\n",
       "    <tr>\n",
       "      <th>348</th>\n",
       "      <td>672481316919734272</td>\n",
       "      <td>https://pbs.twimg.com/media/CVUiMUeW4AEQgkU.jpg</td>\n",
       "      <td>1</td>\n",
       "      <td>Border_collie</td>\n",
       "      <td>0.599454</td>\n",
       "      <td>True</td>\n",
       "      <td>collie</td>\n",
       "      <td>0.106227</td>\n",
       "      <td>True</td>\n",
       "      <td>Shetland_sheepdog</td>\n",
       "      <td>0.094465</td>\n",
       "      <td>True</td>\n",
       "    </tr>\n",
       "    <tr>\n",
       "      <th>102</th>\n",
       "      <td>667801013445750784</td>\n",
       "      <td>https://pbs.twimg.com/media/CUSBemVUEAAn-6V.jpg</td>\n",
       "      <td>1</td>\n",
       "      <td>flat-coated_retriever</td>\n",
       "      <td>0.508392</td>\n",
       "      <td>True</td>\n",
       "      <td>Chesapeake_Bay_retriever</td>\n",
       "      <td>0.262239</td>\n",
       "      <td>True</td>\n",
       "      <td>curly-coated_retriever</td>\n",
       "      <td>0.048920</td>\n",
       "      <td>True</td>\n",
       "    </tr>\n",
       "  </tbody>\n",
       "</table>\n",
       "</div>"
      ],
      "text/plain": [
       "               tweet_id                                          jpg_url  \\\n",
       "724  686034024800862208  https://pbs.twimg.com/media/CYVIToGWQAAEZ_y.jpg   \n",
       "348  672481316919734272  https://pbs.twimg.com/media/CVUiMUeW4AEQgkU.jpg   \n",
       "102  667801013445750784  https://pbs.twimg.com/media/CUSBemVUEAAn-6V.jpg   \n",
       "\n",
       "     img_num                     p1   p1_conf  p1_dog  \\\n",
       "724        1             Great_Dane  0.236920    True   \n",
       "348        1          Border_collie  0.599454    True   \n",
       "102        1  flat-coated_retriever  0.508392    True   \n",
       "\n",
       "                           p2   p2_conf  p2_dog                          p3  \\\n",
       "724           Irish_wolfhound  0.117608    True  Greater_Swiss_Mountain_dog   \n",
       "348                    collie  0.106227    True           Shetland_sheepdog   \n",
       "102  Chesapeake_Bay_retriever  0.262239    True      curly-coated_retriever   \n",
       "\n",
       "      p3_conf  p3_dog  \n",
       "724  0.103900    True  \n",
       "348  0.094465    True  \n",
       "102  0.048920    True  "
      ]
     },
     "metadata": {},
     "output_type": "display_data"
    },
    {
     "name": "stdout",
     "output_type": "stream",
     "text": [
      "\n",
      "Last 3 rows:\n"
     ]
    },
    {
     "data": {
      "text/html": [
       "<div>\n",
       "<style scoped>\n",
       "    .dataframe tbody tr th:only-of-type {\n",
       "        vertical-align: middle;\n",
       "    }\n",
       "\n",
       "    .dataframe tbody tr th {\n",
       "        vertical-align: top;\n",
       "    }\n",
       "\n",
       "    .dataframe thead th {\n",
       "        text-align: right;\n",
       "    }\n",
       "</style>\n",
       "<table border=\"1\" class=\"dataframe\">\n",
       "  <thead>\n",
       "    <tr style=\"text-align: right;\">\n",
       "      <th></th>\n",
       "      <th>tweet_id</th>\n",
       "      <th>jpg_url</th>\n",
       "      <th>img_num</th>\n",
       "      <th>p1</th>\n",
       "      <th>p1_conf</th>\n",
       "      <th>p1_dog</th>\n",
       "      <th>p2</th>\n",
       "      <th>p2_conf</th>\n",
       "      <th>p2_dog</th>\n",
       "      <th>p3</th>\n",
       "      <th>p3_conf</th>\n",
       "      <th>p3_dog</th>\n",
       "    </tr>\n",
       "  </thead>\n",
       "  <tbody>\n",
       "    <tr>\n",
       "      <th>2072</th>\n",
       "      <td>891815181378084864</td>\n",
       "      <td>https://pbs.twimg.com/media/DGBdLU1WsAANxJ9.jpg</td>\n",
       "      <td>1</td>\n",
       "      <td>Chihuahua</td>\n",
       "      <td>0.716012</td>\n",
       "      <td>True</td>\n",
       "      <td>malamute</td>\n",
       "      <td>0.078253</td>\n",
       "      <td>True</td>\n",
       "      <td>kelpie</td>\n",
       "      <td>0.031379</td>\n",
       "      <td>True</td>\n",
       "    </tr>\n",
       "    <tr>\n",
       "      <th>2073</th>\n",
       "      <td>892177421306343426</td>\n",
       "      <td>https://pbs.twimg.com/media/DGGmoV4XsAAUL6n.jpg</td>\n",
       "      <td>1</td>\n",
       "      <td>Chihuahua</td>\n",
       "      <td>0.323581</td>\n",
       "      <td>True</td>\n",
       "      <td>Pekinese</td>\n",
       "      <td>0.090647</td>\n",
       "      <td>True</td>\n",
       "      <td>papillon</td>\n",
       "      <td>0.068957</td>\n",
       "      <td>True</td>\n",
       "    </tr>\n",
       "    <tr>\n",
       "      <th>2074</th>\n",
       "      <td>892420643555336193</td>\n",
       "      <td>https://pbs.twimg.com/media/DGKD1-bXoAAIAUK.jpg</td>\n",
       "      <td>1</td>\n",
       "      <td>orange</td>\n",
       "      <td>0.097049</td>\n",
       "      <td>False</td>\n",
       "      <td>bagel</td>\n",
       "      <td>0.085851</td>\n",
       "      <td>False</td>\n",
       "      <td>banana</td>\n",
       "      <td>0.076110</td>\n",
       "      <td>False</td>\n",
       "    </tr>\n",
       "  </tbody>\n",
       "</table>\n",
       "</div>"
      ],
      "text/plain": [
       "                tweet_id                                          jpg_url  \\\n",
       "2072  891815181378084864  https://pbs.twimg.com/media/DGBdLU1WsAANxJ9.jpg   \n",
       "2073  892177421306343426  https://pbs.twimg.com/media/DGGmoV4XsAAUL6n.jpg   \n",
       "2074  892420643555336193  https://pbs.twimg.com/media/DGKD1-bXoAAIAUK.jpg   \n",
       "\n",
       "      img_num         p1   p1_conf  p1_dog        p2   p2_conf  p2_dog  \\\n",
       "2072        1  Chihuahua  0.716012    True  malamute  0.078253    True   \n",
       "2073        1  Chihuahua  0.323581    True  Pekinese  0.090647    True   \n",
       "2074        1     orange  0.097049   False     bagel  0.085851   False   \n",
       "\n",
       "            p3   p3_conf  p3_dog  \n",
       "2072    kelpie  0.031379    True  \n",
       "2073  papillon  0.068957    True  \n",
       "2074    banana  0.076110   False  "
      ]
     },
     "metadata": {},
     "output_type": "display_data"
    },
    {
     "name": "stdout",
     "output_type": "stream",
     "text": [
      "\n",
      "PROGRAMMATIC ASSESSMENT:\n",
      "\n",
      "1. Data types and memory usage (info()):\n",
      "<class 'pandas.core.frame.DataFrame'>\n",
      "RangeIndex: 2075 entries, 0 to 2074\n",
      "Data columns (total 12 columns):\n",
      "tweet_id    2075 non-null int64\n",
      "jpg_url     2075 non-null object\n",
      "img_num     2075 non-null int64\n",
      "p1          2075 non-null object\n",
      "p1_conf     2075 non-null float64\n",
      "p1_dog      2075 non-null bool\n",
      "p2          2075 non-null object\n",
      "p2_conf     2075 non-null float64\n",
      "p2_dog      2075 non-null bool\n",
      "p3          2075 non-null object\n",
      "p3_conf     2075 non-null float64\n",
      "p3_dog      2075 non-null bool\n",
      "dtypes: bool(3), float64(3), int64(2), object(4)\n",
      "memory usage: 152.1+ KB\n",
      "None\n",
      "\n",
      "2. Statistical summary (describe()):\n"
     ]
    },
    {
     "data": {
      "text/html": [
       "<div>\n",
       "<style scoped>\n",
       "    .dataframe tbody tr th:only-of-type {\n",
       "        vertical-align: middle;\n",
       "    }\n",
       "\n",
       "    .dataframe tbody tr th {\n",
       "        vertical-align: top;\n",
       "    }\n",
       "\n",
       "    .dataframe thead th {\n",
       "        text-align: right;\n",
       "    }\n",
       "</style>\n",
       "<table border=\"1\" class=\"dataframe\">\n",
       "  <thead>\n",
       "    <tr style=\"text-align: right;\">\n",
       "      <th></th>\n",
       "      <th>tweet_id</th>\n",
       "      <th>jpg_url</th>\n",
       "      <th>img_num</th>\n",
       "      <th>p1</th>\n",
       "      <th>p1_conf</th>\n",
       "      <th>p1_dog</th>\n",
       "      <th>p2</th>\n",
       "      <th>p2_conf</th>\n",
       "      <th>p2_dog</th>\n",
       "      <th>p3</th>\n",
       "      <th>p3_conf</th>\n",
       "      <th>p3_dog</th>\n",
       "    </tr>\n",
       "  </thead>\n",
       "  <tbody>\n",
       "    <tr>\n",
       "      <th>count</th>\n",
       "      <td>2.075000e+03</td>\n",
       "      <td>2075</td>\n",
       "      <td>2075.000000</td>\n",
       "      <td>2075</td>\n",
       "      <td>2075.000000</td>\n",
       "      <td>2075</td>\n",
       "      <td>2075</td>\n",
       "      <td>2.075000e+03</td>\n",
       "      <td>2075</td>\n",
       "      <td>2075</td>\n",
       "      <td>2.075000e+03</td>\n",
       "      <td>2075</td>\n",
       "    </tr>\n",
       "    <tr>\n",
       "      <th>unique</th>\n",
       "      <td>NaN</td>\n",
       "      <td>2009</td>\n",
       "      <td>NaN</td>\n",
       "      <td>378</td>\n",
       "      <td>NaN</td>\n",
       "      <td>2</td>\n",
       "      <td>405</td>\n",
       "      <td>NaN</td>\n",
       "      <td>2</td>\n",
       "      <td>408</td>\n",
       "      <td>NaN</td>\n",
       "      <td>2</td>\n",
       "    </tr>\n",
       "    <tr>\n",
       "      <th>top</th>\n",
       "      <td>NaN</td>\n",
       "      <td>https://pbs.twimg.com/media/C2kzTGxWEAEOpPL.jpg</td>\n",
       "      <td>NaN</td>\n",
       "      <td>golden_retriever</td>\n",
       "      <td>NaN</td>\n",
       "      <td>True</td>\n",
       "      <td>Labrador_retriever</td>\n",
       "      <td>NaN</td>\n",
       "      <td>True</td>\n",
       "      <td>Labrador_retriever</td>\n",
       "      <td>NaN</td>\n",
       "      <td>True</td>\n",
       "    </tr>\n",
       "    <tr>\n",
       "      <th>freq</th>\n",
       "      <td>NaN</td>\n",
       "      <td>2</td>\n",
       "      <td>NaN</td>\n",
       "      <td>150</td>\n",
       "      <td>NaN</td>\n",
       "      <td>1532</td>\n",
       "      <td>104</td>\n",
       "      <td>NaN</td>\n",
       "      <td>1553</td>\n",
       "      <td>79</td>\n",
       "      <td>NaN</td>\n",
       "      <td>1499</td>\n",
       "    </tr>\n",
       "    <tr>\n",
       "      <th>mean</th>\n",
       "      <td>7.384514e+17</td>\n",
       "      <td>NaN</td>\n",
       "      <td>1.203855</td>\n",
       "      <td>NaN</td>\n",
       "      <td>0.594548</td>\n",
       "      <td>NaN</td>\n",
       "      <td>NaN</td>\n",
       "      <td>1.345886e-01</td>\n",
       "      <td>NaN</td>\n",
       "      <td>NaN</td>\n",
       "      <td>6.032417e-02</td>\n",
       "      <td>NaN</td>\n",
       "    </tr>\n",
       "    <tr>\n",
       "      <th>std</th>\n",
       "      <td>6.785203e+16</td>\n",
       "      <td>NaN</td>\n",
       "      <td>0.561875</td>\n",
       "      <td>NaN</td>\n",
       "      <td>0.271174</td>\n",
       "      <td>NaN</td>\n",
       "      <td>NaN</td>\n",
       "      <td>1.006657e-01</td>\n",
       "      <td>NaN</td>\n",
       "      <td>NaN</td>\n",
       "      <td>5.090593e-02</td>\n",
       "      <td>NaN</td>\n",
       "    </tr>\n",
       "    <tr>\n",
       "      <th>min</th>\n",
       "      <td>6.660209e+17</td>\n",
       "      <td>NaN</td>\n",
       "      <td>1.000000</td>\n",
       "      <td>NaN</td>\n",
       "      <td>0.044333</td>\n",
       "      <td>NaN</td>\n",
       "      <td>NaN</td>\n",
       "      <td>1.011300e-08</td>\n",
       "      <td>NaN</td>\n",
       "      <td>NaN</td>\n",
       "      <td>1.740170e-10</td>\n",
       "      <td>NaN</td>\n",
       "    </tr>\n",
       "    <tr>\n",
       "      <th>25%</th>\n",
       "      <td>6.764835e+17</td>\n",
       "      <td>NaN</td>\n",
       "      <td>1.000000</td>\n",
       "      <td>NaN</td>\n",
       "      <td>0.364412</td>\n",
       "      <td>NaN</td>\n",
       "      <td>NaN</td>\n",
       "      <td>5.388625e-02</td>\n",
       "      <td>NaN</td>\n",
       "      <td>NaN</td>\n",
       "      <td>1.622240e-02</td>\n",
       "      <td>NaN</td>\n",
       "    </tr>\n",
       "    <tr>\n",
       "      <th>50%</th>\n",
       "      <td>7.119988e+17</td>\n",
       "      <td>NaN</td>\n",
       "      <td>1.000000</td>\n",
       "      <td>NaN</td>\n",
       "      <td>0.588230</td>\n",
       "      <td>NaN</td>\n",
       "      <td>NaN</td>\n",
       "      <td>1.181810e-01</td>\n",
       "      <td>NaN</td>\n",
       "      <td>NaN</td>\n",
       "      <td>4.944380e-02</td>\n",
       "      <td>NaN</td>\n",
       "    </tr>\n",
       "    <tr>\n",
       "      <th>75%</th>\n",
       "      <td>7.932034e+17</td>\n",
       "      <td>NaN</td>\n",
       "      <td>1.000000</td>\n",
       "      <td>NaN</td>\n",
       "      <td>0.843855</td>\n",
       "      <td>NaN</td>\n",
       "      <td>NaN</td>\n",
       "      <td>1.955655e-01</td>\n",
       "      <td>NaN</td>\n",
       "      <td>NaN</td>\n",
       "      <td>9.180755e-02</td>\n",
       "      <td>NaN</td>\n",
       "    </tr>\n",
       "    <tr>\n",
       "      <th>max</th>\n",
       "      <td>8.924206e+17</td>\n",
       "      <td>NaN</td>\n",
       "      <td>4.000000</td>\n",
       "      <td>NaN</td>\n",
       "      <td>1.000000</td>\n",
       "      <td>NaN</td>\n",
       "      <td>NaN</td>\n",
       "      <td>4.880140e-01</td>\n",
       "      <td>NaN</td>\n",
       "      <td>NaN</td>\n",
       "      <td>2.734190e-01</td>\n",
       "      <td>NaN</td>\n",
       "    </tr>\n",
       "  </tbody>\n",
       "</table>\n",
       "</div>"
      ],
      "text/plain": [
       "            tweet_id                                          jpg_url  \\\n",
       "count   2.075000e+03                                             2075   \n",
       "unique           NaN                                             2009   \n",
       "top              NaN  https://pbs.twimg.com/media/C2kzTGxWEAEOpPL.jpg   \n",
       "freq             NaN                                                2   \n",
       "mean    7.384514e+17                                              NaN   \n",
       "std     6.785203e+16                                              NaN   \n",
       "min     6.660209e+17                                              NaN   \n",
       "25%     6.764835e+17                                              NaN   \n",
       "50%     7.119988e+17                                              NaN   \n",
       "75%     7.932034e+17                                              NaN   \n",
       "max     8.924206e+17                                              NaN   \n",
       "\n",
       "            img_num                p1      p1_conf p1_dog                  p2  \\\n",
       "count   2075.000000              2075  2075.000000   2075                2075   \n",
       "unique          NaN               378          NaN      2                 405   \n",
       "top             NaN  golden_retriever          NaN   True  Labrador_retriever   \n",
       "freq            NaN               150          NaN   1532                 104   \n",
       "mean       1.203855               NaN     0.594548    NaN                 NaN   \n",
       "std        0.561875               NaN     0.271174    NaN                 NaN   \n",
       "min        1.000000               NaN     0.044333    NaN                 NaN   \n",
       "25%        1.000000               NaN     0.364412    NaN                 NaN   \n",
       "50%        1.000000               NaN     0.588230    NaN                 NaN   \n",
       "75%        1.000000               NaN     0.843855    NaN                 NaN   \n",
       "max        4.000000               NaN     1.000000    NaN                 NaN   \n",
       "\n",
       "             p2_conf p2_dog                  p3       p3_conf p3_dog  \n",
       "count   2.075000e+03   2075                2075  2.075000e+03   2075  \n",
       "unique           NaN      2                 408           NaN      2  \n",
       "top              NaN   True  Labrador_retriever           NaN   True  \n",
       "freq             NaN   1553                  79           NaN   1499  \n",
       "mean    1.345886e-01    NaN                 NaN  6.032417e-02    NaN  \n",
       "std     1.006657e-01    NaN                 NaN  5.090593e-02    NaN  \n",
       "min     1.011300e-08    NaN                 NaN  1.740170e-10    NaN  \n",
       "25%     5.388625e-02    NaN                 NaN  1.622240e-02    NaN  \n",
       "50%     1.181810e-01    NaN                 NaN  4.944380e-02    NaN  \n",
       "75%     1.955655e-01    NaN                 NaN  9.180755e-02    NaN  \n",
       "max     4.880140e-01    NaN                 NaN  2.734190e-01    NaN  "
      ]
     },
     "metadata": {},
     "output_type": "display_data"
    },
    {
     "name": "stdout",
     "output_type": "stream",
     "text": [
      "\n",
      "3. Missing values (isnull().sum()):\n",
      "tweet_id    0\n",
      "jpg_url     0\n",
      "img_num     0\n",
      "p1          0\n",
      "p1_conf     0\n",
      "p1_dog      0\n",
      "p2          0\n",
      "p2_conf     0\n",
      "p2_dog      0\n",
      "p3          0\n",
      "p3_conf     0\n",
      "p3_dog      0\n",
      "dtype: int64\n",
      "\n",
      "4. Duplicate rows (duplicated().sum()):\n",
      "Total duplicates: 0\n",
      "\n",
      "5. Unique values (nunique()):\n",
      "tweet_id    2075\n",
      "jpg_url     2009\n",
      "img_num        4\n",
      "p1           378\n",
      "p1_conf     2006\n",
      "p1_dog         2\n",
      "p2           405\n",
      "p2_conf     2004\n",
      "p2_dog         2\n",
      "p3           408\n",
      "p3_conf     2006\n",
      "p3_dog         2\n",
      "dtype: int64\n",
      "\n",
      "6.1 Value counts for 'tweet_id':\n",
      "685532292383666176    1\n",
      "826598365270007810    1\n",
      "692158366030913536    1\n",
      "714606013974974464    1\n",
      "715696743237730304    1\n",
      "Name: tweet_id, dtype: int64\n",
      "\n",
      "6.2 Value counts for 'jpg_url':\n",
      "https://pbs.twimg.com/media/C2kzTGxWEAEOpPL.jpg    2\n",
      "https://pbs.twimg.com/media/C2oRbOuWEAAbVSl.jpg    2\n",
      "https://pbs.twimg.com/media/CYLDikFWEAAIy1y.jpg    2\n",
      "https://pbs.twimg.com/media/CcG07BYW0AErrC9.jpg    2\n",
      "https://pbs.twimg.com/media/C4KHj-nWQAA3poV.jpg    2\n",
      "Name: jpg_url, dtype: int64\n",
      "\n",
      "============================================================\n",
      "ASSESSING DATASET: TWITTER API DATA\n",
      "============================================================\n",
      "\n",
      "VISUAL ASSESSMENT:\n",
      "\n",
      "First 3 rows:\n"
     ]
    },
    {
     "data": {
      "text/html": [
       "<div>\n",
       "<style scoped>\n",
       "    .dataframe tbody tr th:only-of-type {\n",
       "        vertical-align: middle;\n",
       "    }\n",
       "\n",
       "    .dataframe tbody tr th {\n",
       "        vertical-align: top;\n",
       "    }\n",
       "\n",
       "    .dataframe thead th {\n",
       "        text-align: right;\n",
       "    }\n",
       "</style>\n",
       "<table border=\"1\" class=\"dataframe\">\n",
       "  <thead>\n",
       "    <tr style=\"text-align: right;\">\n",
       "      <th></th>\n",
       "      <th>favorite_count</th>\n",
       "      <th>retweet_count</th>\n",
       "      <th>tweet_id</th>\n",
       "    </tr>\n",
       "  </thead>\n",
       "  <tbody>\n",
       "    <tr>\n",
       "      <th>0</th>\n",
       "      <td>39467</td>\n",
       "      <td>8853</td>\n",
       "      <td>892420643555336193</td>\n",
       "    </tr>\n",
       "    <tr>\n",
       "      <th>1</th>\n",
       "      <td>33819</td>\n",
       "      <td>6514</td>\n",
       "      <td>892177421306343426</td>\n",
       "    </tr>\n",
       "    <tr>\n",
       "      <th>2</th>\n",
       "      <td>25461</td>\n",
       "      <td>4328</td>\n",
       "      <td>891815181378084864</td>\n",
       "    </tr>\n",
       "  </tbody>\n",
       "</table>\n",
       "</div>"
      ],
      "text/plain": [
       "   favorite_count  retweet_count            tweet_id\n",
       "0           39467           8853  892420643555336193\n",
       "1           33819           6514  892177421306343426\n",
       "2           25461           4328  891815181378084864"
      ]
     },
     "metadata": {},
     "output_type": "display_data"
    },
    {
     "name": "stdout",
     "output_type": "stream",
     "text": [
      "\n",
      "Random 3 rows:\n"
     ]
    },
    {
     "data": {
      "text/html": [
       "<div>\n",
       "<style scoped>\n",
       "    .dataframe tbody tr th:only-of-type {\n",
       "        vertical-align: middle;\n",
       "    }\n",
       "\n",
       "    .dataframe tbody tr th {\n",
       "        vertical-align: top;\n",
       "    }\n",
       "\n",
       "    .dataframe thead th {\n",
       "        text-align: right;\n",
       "    }\n",
       "</style>\n",
       "<table border=\"1\" class=\"dataframe\">\n",
       "  <thead>\n",
       "    <tr style=\"text-align: right;\">\n",
       "      <th></th>\n",
       "      <th>favorite_count</th>\n",
       "      <th>retweet_count</th>\n",
       "      <th>tweet_id</th>\n",
       "    </tr>\n",
       "  </thead>\n",
       "  <tbody>\n",
       "    <tr>\n",
       "      <th>1593</th>\n",
       "      <td>2398</td>\n",
       "      <td>776</td>\n",
       "      <td>686358356425093120</td>\n",
       "    </tr>\n",
       "    <tr>\n",
       "      <th>65</th>\n",
       "      <td>107956</td>\n",
       "      <td>45849</td>\n",
       "      <td>879415818425184262</td>\n",
       "    </tr>\n",
       "    <tr>\n",
       "      <th>1863</th>\n",
       "      <td>35178</td>\n",
       "      <td>18963</td>\n",
       "      <td>675354435921575936</td>\n",
       "    </tr>\n",
       "  </tbody>\n",
       "</table>\n",
       "</div>"
      ],
      "text/plain": [
       "      favorite_count  retweet_count            tweet_id\n",
       "1593            2398            776  686358356425093120\n",
       "65            107956          45849  879415818425184262\n",
       "1863           35178          18963  675354435921575936"
      ]
     },
     "metadata": {},
     "output_type": "display_data"
    },
    {
     "name": "stdout",
     "output_type": "stream",
     "text": [
      "\n",
      "Last 3 rows:\n"
     ]
    },
    {
     "data": {
      "text/html": [
       "<div>\n",
       "<style scoped>\n",
       "    .dataframe tbody tr th:only-of-type {\n",
       "        vertical-align: middle;\n",
       "    }\n",
       "\n",
       "    .dataframe tbody tr th {\n",
       "        vertical-align: top;\n",
       "    }\n",
       "\n",
       "    .dataframe thead th {\n",
       "        text-align: right;\n",
       "    }\n",
       "</style>\n",
       "<table border=\"1\" class=\"dataframe\">\n",
       "  <thead>\n",
       "    <tr style=\"text-align: right;\">\n",
       "      <th></th>\n",
       "      <th>favorite_count</th>\n",
       "      <th>retweet_count</th>\n",
       "      <th>tweet_id</th>\n",
       "    </tr>\n",
       "  </thead>\n",
       "  <tbody>\n",
       "    <tr>\n",
       "      <th>2351</th>\n",
       "      <td>128</td>\n",
       "      <td>47</td>\n",
       "      <td>666033412701032449</td>\n",
       "    </tr>\n",
       "    <tr>\n",
       "      <th>2352</th>\n",
       "      <td>132</td>\n",
       "      <td>48</td>\n",
       "      <td>666029285002620928</td>\n",
       "    </tr>\n",
       "    <tr>\n",
       "      <th>2353</th>\n",
       "      <td>2535</td>\n",
       "      <td>532</td>\n",
       "      <td>666020888022790149</td>\n",
       "    </tr>\n",
       "  </tbody>\n",
       "</table>\n",
       "</div>"
      ],
      "text/plain": [
       "      favorite_count  retweet_count            tweet_id\n",
       "2351             128             47  666033412701032449\n",
       "2352             132             48  666029285002620928\n",
       "2353            2535            532  666020888022790149"
      ]
     },
     "metadata": {},
     "output_type": "display_data"
    },
    {
     "name": "stdout",
     "output_type": "stream",
     "text": [
      "\n",
      "PROGRAMMATIC ASSESSMENT:\n",
      "\n",
      "1. Data types and memory usage (info()):\n",
      "<class 'pandas.core.frame.DataFrame'>\n",
      "RangeIndex: 2354 entries, 0 to 2353\n",
      "Data columns (total 3 columns):\n",
      "favorite_count    2354 non-null int64\n",
      "retweet_count     2354 non-null int64\n",
      "tweet_id          2354 non-null object\n",
      "dtypes: int64(2), object(1)\n",
      "memory usage: 55.2+ KB\n",
      "None\n",
      "\n",
      "2. Statistical summary (describe()):\n"
     ]
    },
    {
     "data": {
      "text/html": [
       "<div>\n",
       "<style scoped>\n",
       "    .dataframe tbody tr th:only-of-type {\n",
       "        vertical-align: middle;\n",
       "    }\n",
       "\n",
       "    .dataframe tbody tr th {\n",
       "        vertical-align: top;\n",
       "    }\n",
       "\n",
       "    .dataframe thead th {\n",
       "        text-align: right;\n",
       "    }\n",
       "</style>\n",
       "<table border=\"1\" class=\"dataframe\">\n",
       "  <thead>\n",
       "    <tr style=\"text-align: right;\">\n",
       "      <th></th>\n",
       "      <th>favorite_count</th>\n",
       "      <th>retweet_count</th>\n",
       "      <th>tweet_id</th>\n",
       "    </tr>\n",
       "  </thead>\n",
       "  <tbody>\n",
       "    <tr>\n",
       "      <th>count</th>\n",
       "      <td>2354.000000</td>\n",
       "      <td>2354.000000</td>\n",
       "      <td>2354</td>\n",
       "    </tr>\n",
       "    <tr>\n",
       "      <th>unique</th>\n",
       "      <td>NaN</td>\n",
       "      <td>NaN</td>\n",
       "      <td>2354</td>\n",
       "    </tr>\n",
       "    <tr>\n",
       "      <th>top</th>\n",
       "      <td>NaN</td>\n",
       "      <td>NaN</td>\n",
       "      <td>672964561327235073</td>\n",
       "    </tr>\n",
       "    <tr>\n",
       "      <th>freq</th>\n",
       "      <td>NaN</td>\n",
       "      <td>NaN</td>\n",
       "      <td>1</td>\n",
       "    </tr>\n",
       "    <tr>\n",
       "      <th>mean</th>\n",
       "      <td>8080.968564</td>\n",
       "      <td>3164.797366</td>\n",
       "      <td>NaN</td>\n",
       "    </tr>\n",
       "    <tr>\n",
       "      <th>std</th>\n",
       "      <td>11814.771334</td>\n",
       "      <td>5284.770364</td>\n",
       "      <td>NaN</td>\n",
       "    </tr>\n",
       "    <tr>\n",
       "      <th>min</th>\n",
       "      <td>0.000000</td>\n",
       "      <td>0.000000</td>\n",
       "      <td>NaN</td>\n",
       "    </tr>\n",
       "    <tr>\n",
       "      <th>25%</th>\n",
       "      <td>1415.000000</td>\n",
       "      <td>624.500000</td>\n",
       "      <td>NaN</td>\n",
       "    </tr>\n",
       "    <tr>\n",
       "      <th>50%</th>\n",
       "      <td>3603.500000</td>\n",
       "      <td>1473.500000</td>\n",
       "      <td>NaN</td>\n",
       "    </tr>\n",
       "    <tr>\n",
       "      <th>75%</th>\n",
       "      <td>10122.250000</td>\n",
       "      <td>3652.000000</td>\n",
       "      <td>NaN</td>\n",
       "    </tr>\n",
       "    <tr>\n",
       "      <th>max</th>\n",
       "      <td>132810.000000</td>\n",
       "      <td>79515.000000</td>\n",
       "      <td>NaN</td>\n",
       "    </tr>\n",
       "  </tbody>\n",
       "</table>\n",
       "</div>"
      ],
      "text/plain": [
       "        favorite_count  retweet_count            tweet_id\n",
       "count      2354.000000    2354.000000                2354\n",
       "unique             NaN            NaN                2354\n",
       "top                NaN            NaN  672964561327235073\n",
       "freq               NaN            NaN                   1\n",
       "mean       8080.968564    3164.797366                 NaN\n",
       "std       11814.771334    5284.770364                 NaN\n",
       "min           0.000000       0.000000                 NaN\n",
       "25%        1415.000000     624.500000                 NaN\n",
       "50%        3603.500000    1473.500000                 NaN\n",
       "75%       10122.250000    3652.000000                 NaN\n",
       "max      132810.000000   79515.000000                 NaN"
      ]
     },
     "metadata": {},
     "output_type": "display_data"
    },
    {
     "name": "stdout",
     "output_type": "stream",
     "text": [
      "\n",
      "3. Missing values (isnull().sum()):\n",
      "favorite_count    0\n",
      "retweet_count     0\n",
      "tweet_id          0\n",
      "dtype: int64\n",
      "\n",
      "4. Duplicate rows (duplicated().sum()):\n",
      "Total duplicates: 0\n",
      "\n",
      "5. Unique values (nunique()):\n",
      "favorite_count    2007\n",
      "retweet_count     1724\n",
      "tweet_id          2354\n",
      "dtype: int64\n",
      "\n",
      "6.1 Value counts for 'favorite_count':\n",
      "0       179\n",
      "610       3\n",
      "345       3\n",
      "2918      3\n",
      "1691      3\n",
      "Name: favorite_count, dtype: int64\n",
      "\n",
      "6.2 Value counts for 'retweet_count':\n",
      "1972    5\n",
      "3652    5\n",
      "83      5\n",
      "146     4\n",
      "61      4\n",
      "Name: retweet_count, dtype: int64\n"
     ]
    }
   ],
   "source": [
    "archive_df = pd.read_csv('twitter-archive-enhanced.csv')\n",
    "image_preds_df = pd.read_csv('image-predictions.csv')\n",
    "\n",
    "def comprehensive_assessment(df, name):\n",
    "    print(f\"\\n{'='*60}\")\n",
    "    print(f\"ASSESSING DATASET: {name.upper()}\")\n",
    "    print(f\"{'='*60}\")\n",
    "    \n",
    "    # Visual assessment\n",
    "    print(\"\\nVISUAL ASSESSMENT:\")\n",
    "    print(\"\\nFirst 3 rows:\")\n",
    "    display(df.head(3))\n",
    "    print(\"\\nRandom 3 rows:\")\n",
    "    display(df.sample(3, random_state=1))\n",
    "    print(\"\\nLast 3 rows:\")\n",
    "    display(df.tail(3))\n",
    "    \n",
    "    # Programmatic assessment\n",
    "    print(\"\\nPROGRAMMATIC ASSESSMENT:\")\n",
    "    print(\"\\n1. Data types and memory usage (info()):\")\n",
    "    print(df.info())\n",
    "    \n",
    "    print(\"\\n2. Statistical summary (describe()):\")\n",
    "    display(df.describe(include='all'))\n",
    "    \n",
    "    print(\"\\n3. Missing values (isnull().sum()):\")\n",
    "    print(df.isnull().sum())\n",
    "    \n",
    "    print(\"\\n4. Duplicate rows (duplicated().sum()):\")\n",
    "    print(f\"Total duplicates: {df.duplicated().sum()}\")\n",
    "    \n",
    "    print(\"\\n5. Unique values (nunique()):\")\n",
    "    print(df.nunique())\n",
    "        \n",
    "    for i, col in enumerate(df.columns[:2]):\n",
    "        print(f\"\\n6.{i+1} Value counts for '{col}':\")\n",
    "        print(df[col].value_counts().head(5))\n",
    "\n",
    "print(\"\\n\\nDATA ASSESSMENT REPORT FOR ALL DATASETS\")\n",
    "comprehensive_assessment(archive_df, \"Twitter Archive\")\n",
    "comprehensive_assessment(image_preds_df, \"Image Predictions\")\n",
    "comprehensive_assessment(api_data, \"Twitter API Data\")"
   ]
  },
  {
   "cell_type": "code",
   "execution_count": 7,
   "metadata": {
    "scrolled": true
   },
   "outputs": [
    {
     "name": "stdout",
     "output_type": "stream",
     "text": [
      "\n",
      "==================================================\n",
      "Step 2: Assessing Data\n",
      "==================================================\n",
      "\n",
      "Visual Assessment:\n",
      "Twitter Archive (First 5 rows):\n",
      "             tweet_id  in_reply_to_status_id  in_reply_to_user_id  \\\n",
      "0  892420643555336193                    NaN                  NaN   \n",
      "1  892177421306343426                    NaN                  NaN   \n",
      "2  891815181378084864                    NaN                  NaN   \n",
      "3  891689557279858688                    NaN                  NaN   \n",
      "4  891327558926688256                    NaN                  NaN   \n",
      "\n",
      "                   timestamp  \\\n",
      "0  2017-08-01 16:23:56 +0000   \n",
      "1  2017-08-01 00:17:27 +0000   \n",
      "2  2017-07-31 00:18:03 +0000   \n",
      "3  2017-07-30 15:58:51 +0000   \n",
      "4  2017-07-29 16:00:24 +0000   \n",
      "\n",
      "                                              source  \\\n",
      "0  <a href=\"http://twitter.com/download/iphone\" r...   \n",
      "1  <a href=\"http://twitter.com/download/iphone\" r...   \n",
      "2  <a href=\"http://twitter.com/download/iphone\" r...   \n",
      "3  <a href=\"http://twitter.com/download/iphone\" r...   \n",
      "4  <a href=\"http://twitter.com/download/iphone\" r...   \n",
      "\n",
      "                                                text  retweeted_status_id  \\\n",
      "0  This is Phineas. He's a mystical boy. Only eve...                  NaN   \n",
      "1  This is Tilly. She's just checking pup on you....                  NaN   \n",
      "2  This is Archie. He is a rare Norwegian Pouncin...                  NaN   \n",
      "3  This is Darla. She commenced a snooze mid meal...                  NaN   \n",
      "4  This is Franklin. He would like you to stop ca...                  NaN   \n",
      "\n",
      "   retweeted_status_user_id retweeted_status_timestamp  \\\n",
      "0                       NaN                        NaN   \n",
      "1                       NaN                        NaN   \n",
      "2                       NaN                        NaN   \n",
      "3                       NaN                        NaN   \n",
      "4                       NaN                        NaN   \n",
      "\n",
      "                                       expanded_urls  rating_numerator  \\\n",
      "0  https://twitter.com/dog_rates/status/892420643...                13   \n",
      "1  https://twitter.com/dog_rates/status/892177421...                13   \n",
      "2  https://twitter.com/dog_rates/status/891815181...                12   \n",
      "3  https://twitter.com/dog_rates/status/891689557...                13   \n",
      "4  https://twitter.com/dog_rates/status/891327558...                12   \n",
      "\n",
      "   rating_denominator      name doggo floofer pupper puppo  \n",
      "0                  10   Phineas  None    None   None  None  \n",
      "1                  10     Tilly  None    None   None  None  \n",
      "2                  10    Archie  None    None   None  None  \n",
      "3                  10     Darla  None    None   None  None  \n",
      "4                  10  Franklin  None    None   None  None  \n",
      "\n",
      "Image Predictions (First 5 rows):\n",
      "             tweet_id                                          jpg_url  \\\n",
      "0  666020888022790149  https://pbs.twimg.com/media/CT4udn0WwAA0aMy.jpg   \n",
      "1  666029285002620928  https://pbs.twimg.com/media/CT42GRgUYAA5iDo.jpg   \n",
      "2  666033412701032449  https://pbs.twimg.com/media/CT4521TWwAEvMyu.jpg   \n",
      "3  666044226329800704  https://pbs.twimg.com/media/CT5Dr8HUEAA-lEu.jpg   \n",
      "4  666049248165822465  https://pbs.twimg.com/media/CT5IQmsXIAAKY4A.jpg   \n",
      "\n",
      "   img_num                      p1   p1_conf  p1_dog                  p2  \\\n",
      "0        1  Welsh_springer_spaniel  0.465074    True              collie   \n",
      "1        1                 redbone  0.506826    True  miniature_pinscher   \n",
      "2        1         German_shepherd  0.596461    True            malinois   \n",
      "3        1     Rhodesian_ridgeback  0.408143    True             redbone   \n",
      "4        1      miniature_pinscher  0.560311    True          Rottweiler   \n",
      "\n",
      "    p2_conf  p2_dog                   p3   p3_conf  p3_dog  \n",
      "0  0.156665    True    Shetland_sheepdog  0.061428    True  \n",
      "1  0.074192    True  Rhodesian_ridgeback  0.072010    True  \n",
      "2  0.138584    True           bloodhound  0.116197    True  \n",
      "3  0.360687    True   miniature_pinscher  0.222752    True  \n",
      "4  0.243682    True             Doberman  0.154629    True  \n",
      "\n",
      "API Data (First 5 rows):\n",
      "   favorite_count  retweet_count            tweet_id\n",
      "0           39467           8853  892420643555336193\n",
      "1           33819           6514  892177421306343426\n",
      "2           25461           4328  891815181378084864\n",
      "3           42908           8964  891689557279858688\n",
      "4           41048           9774  891327558926688256\n",
      "\n",
      "--------------------------------------------------\n",
      "Programmatic Assessment: Twitter Archive\n",
      "--------------------------------------------------\n",
      "\n",
      "Basic Information:\n",
      "<class 'pandas.core.frame.DataFrame'>\n",
      "RangeIndex: 2356 entries, 0 to 2355\n",
      "Data columns (total 17 columns):\n",
      "tweet_id                      2356 non-null int64\n",
      "in_reply_to_status_id         78 non-null float64\n",
      "in_reply_to_user_id           78 non-null float64\n",
      "timestamp                     2356 non-null object\n",
      "source                        2356 non-null object\n",
      "text                          2356 non-null object\n",
      "retweeted_status_id           181 non-null float64\n",
      "retweeted_status_user_id      181 non-null float64\n",
      "retweeted_status_timestamp    181 non-null object\n",
      "expanded_urls                 2297 non-null object\n",
      "rating_numerator              2356 non-null int64\n",
      "rating_denominator            2356 non-null int64\n",
      "name                          2356 non-null object\n",
      "doggo                         2356 non-null object\n",
      "floofer                       2356 non-null object\n",
      "pupper                        2356 non-null object\n",
      "puppo                         2356 non-null object\n",
      "dtypes: float64(4), int64(3), object(10)\n",
      "memory usage: 313.0+ KB\n",
      "\n",
      "Missing Values:\n",
      "tweet_id                         0\n",
      "in_reply_to_status_id         2278\n",
      "in_reply_to_user_id           2278\n",
      "timestamp                        0\n",
      "source                           0\n",
      "text                             0\n",
      "retweeted_status_id           2175\n",
      "retweeted_status_user_id      2175\n",
      "retweeted_status_timestamp    2175\n",
      "expanded_urls                   59\n",
      "rating_numerator                 0\n",
      "rating_denominator               0\n",
      "name                             0\n",
      "doggo                            0\n",
      "floofer                          0\n",
      "pupper                           0\n",
      "puppo                            0\n",
      "dtype: int64\n",
      "\n",
      "Value Counts - Rating Denominators:\n",
      "10     2333\n",
      "11        3\n",
      "50        3\n",
      "80        2\n",
      "20        2\n",
      "2         1\n",
      "16        1\n",
      "40        1\n",
      "70        1\n",
      "15        1\n",
      "90        1\n",
      "110       1\n",
      "120       1\n",
      "130       1\n",
      "150       1\n",
      "170       1\n",
      "7         1\n",
      "0         1\n",
      "Name: rating_denominator, dtype: int64\n",
      "\n",
      "Value Counts - Dog Stages:\n",
      "doggo: None     2259\n",
      "doggo      97\n",
      "Name: doggo, dtype: int64\n",
      "pupper: None      2099\n",
      "pupper     257\n",
      "Name: pupper, dtype: int64\n",
      "puppo: None     2326\n",
      "puppo      30\n",
      "Name: puppo, dtype: int64\n",
      "floofer: None       2346\n",
      "floofer      10\n",
      "Name: floofer, dtype: int64\n",
      "\n",
      "Timestamp Range:\n",
      "Min: 2015-11-15 22:32:08 +0000\n",
      "Max: 2017-08-01 16:23:56 +0000\n",
      "\n",
      "Duplicate Tweets:\n",
      "Duplicates: 0\n",
      "\n",
      "Rating Numerator Summary:\n",
      "count    2356.000000\n",
      "mean       13.126486\n",
      "std        45.876648\n",
      "min         0.000000\n",
      "25%        10.000000\n",
      "50%        11.000000\n",
      "75%        12.000000\n",
      "max      1776.000000\n",
      "Name: rating_numerator, dtype: float64\n",
      "\n",
      "Source Value Counts:\n",
      "<a href=\"http://twitter.com/download/iphone\" rel=\"nofollow\">Twitter for iPhone</a>     2221\n",
      "<a href=\"http://vine.co\" rel=\"nofollow\">Vine - Make a Scene</a>                          91\n",
      "<a href=\"http://twitter.com\" rel=\"nofollow\">Twitter Web Client</a>                       33\n",
      "<a href=\"https://about.twitter.com/products/tweetdeck\" rel=\"nofollow\">TweetDeck</a>      11\n",
      "Name: source, dtype: int64\n"
     ]
    }
   ],
   "source": [
    "print(\"\\n\" + \"=\"*50)\n",
    "print(\"Step 2: Assessing Data\")\n",
    "print(\"=\"*50)\n",
    "\n",
    "#visual Assessing\n",
    "print(\"\\nVisual Assessment:\")\n",
    "print(\"Twitter Archive (First 5 rows):\")\n",
    "print(archive.head())\n",
    "\n",
    "print(\"\\nImage Predictions (First 5 rows):\")\n",
    "print(image_predictions.head())\n",
    "\n",
    "print(\"\\nAPI Data (First 5 rows):\")\n",
    "print(api_data.head())\n",
    "\n",
    "#programatic Assessing\n",
    "# Twitter Archive Assessment\n",
    "print(\"\\n\" + \"-\"*50)\n",
    "print(\"Programmatic Assessment: Twitter Archive\")\n",
    "print(\"-\"*50)\n",
    "\n",
    "print(\"\\nBasic Information:\")\n",
    "archive.info()\n",
    "\n",
    "print(\"\\nMissing Values:\")\n",
    "print(archive.isnull().sum())\n",
    "\n",
    "print(\"\\nValue Counts - Rating Denominators:\")\n",
    "print(archive['rating_denominator'].value_counts())\n",
    "\n",
    "print(\"\\nValue Counts - Dog Stages:\")\n",
    "print(\"doggo:\", archive['doggo'].value_counts())\n",
    "print(\"pupper:\", archive['pupper'].value_counts())\n",
    "print(\"puppo:\", archive['puppo'].value_counts())\n",
    "print(\"floofer:\", archive['floofer'].value_counts())\n",
    "print(\"\\nTimestamp Range:\")\n",
    "print(\"Min:\", archive['timestamp'].min())\n",
    "print(\"Max:\", archive['timestamp'].max())\n",
    "\n",
    "print(\"\\nDuplicate Tweets:\")\n",
    "print(\"Duplicates:\", archive['tweet_id'].duplicated().sum())\n",
    "\n",
    "print(\"\\nRating Numerator Summary:\")\n",
    "print(archive['rating_numerator'].describe())\n",
    "\n",
    "print(\"\\nSource Value Counts:\")\n",
    "print(archive['source'].value_counts())"
   ]
  },
  {
   "cell_type": "code",
   "execution_count": 8,
   "metadata": {},
   "outputs": [
    {
     "name": "stdout",
     "output_type": "stream",
     "text": [
      "\n",
      "--------------------------------------------------\n",
      "Programmatic Assessment: Image Predictions\n",
      "--------------------------------------------------\n",
      "\n",
      "Basic Information:\n",
      "<class 'pandas.core.frame.DataFrame'>\n",
      "RangeIndex: 2075 entries, 0 to 2074\n",
      "Data columns (total 12 columns):\n",
      "tweet_id    2075 non-null int64\n",
      "jpg_url     2075 non-null object\n",
      "img_num     2075 non-null int64\n",
      "p1          2075 non-null object\n",
      "p1_conf     2075 non-null float64\n",
      "p1_dog      2075 non-null bool\n",
      "p2          2075 non-null object\n",
      "p2_conf     2075 non-null float64\n",
      "p2_dog      2075 non-null bool\n",
      "p3          2075 non-null object\n",
      "p3_conf     2075 non-null float64\n",
      "p3_dog      2075 non-null bool\n",
      "dtypes: bool(3), float64(3), int64(2), object(4)\n",
      "memory usage: 152.1+ KB\n",
      "None\n",
      "\n",
      "Missing Values:\n",
      "tweet_id    0\n",
      "jpg_url     0\n",
      "img_num     0\n",
      "p1          0\n",
      "p1_conf     0\n",
      "p1_dog      0\n",
      "p2          0\n",
      "p2_conf     0\n",
      "p2_dog      0\n",
      "p3          0\n",
      "p3_conf     0\n",
      "p3_dog      0\n",
      "dtype: int64\n",
      "\n",
      "Image Prediction Confidence:\n",
      "           p1_conf       p2_conf       p3_conf\n",
      "count  2075.000000  2.075000e+03  2.075000e+03\n",
      "mean      0.594548  1.345886e-01  6.032417e-02\n",
      "std       0.271174  1.006657e-01  5.090593e-02\n",
      "min       0.044333  1.011300e-08  1.740170e-10\n",
      "25%       0.364412  5.388625e-02  1.622240e-02\n",
      "50%       0.588230  1.181810e-01  4.944380e-02\n",
      "75%       0.843855  1.955655e-01  9.180755e-02\n",
      "max       1.000000  4.880140e-01  2.734190e-01\n",
      "\n",
      "Dog Prediction Flags:\n",
      "p1_dog: True     1532\n",
      "False     543\n",
      "Name: p1_dog, dtype: int64\n",
      "p2_dog: True     1553\n",
      "False     522\n",
      "Name: p2_dog, dtype: int64\n",
      "p3_dog: True     1499\n",
      "False     576\n",
      "Name: p3_dog, dtype: int64\n",
      "\n",
      "Top Predictions:\n",
      "p1: golden_retriever      150\n",
      "Labrador_retriever    100\n",
      "Pembroke               89\n",
      "Chihuahua              83\n",
      "pug                    57\n",
      "Name: p1, dtype: int64\n"
     ]
    }
   ],
   "source": [
    "# Image Predictions Assessment\n",
    "print(\"\\n\" + \"-\"*50)\n",
    "print(\"Programmatic Assessment: Image Predictions\")\n",
    "print(\"-\"*50)\n",
    "\n",
    "print(\"\\nBasic Information:\")\n",
    "print(image_predictions.info())\n",
    "print(\"\\nMissing Values:\")\n",
    "print(image_predictions.isnull().sum())\n",
    "\n",
    "print(\"\\nImage Prediction Confidence:\")\n",
    "print(image_predictions[['p1_conf', 'p2_conf', 'p3_conf']].describe())\n",
    "\n",
    "print(\"\\nDog Prediction Flags:\")\n",
    "print(\"p1_dog:\", image_predictions['p1_dog'].value_counts())\n",
    "print(\"p2_dog:\", image_predictions['p2_dog'].value_counts())\n",
    "print(\"p3_dog:\", image_predictions['p3_dog'].value_counts())\n",
    "\n",
    "print(\"\\nTop Predictions:\")\n",
    "print(\"p1:\", image_predictions['p1'].value_counts().head(5))"
   ]
  },
  {
   "cell_type": "code",
   "execution_count": 9,
   "metadata": {
    "scrolled": true
   },
   "outputs": [
    {
     "name": "stdout",
     "output_type": "stream",
     "text": [
      "\n",
      "--------------------------------------------------\n",
      "Programmatic Assessment: API Data\n",
      "--------------------------------------------------\n",
      "\n",
      "Basic Information:\n",
      "<class 'pandas.core.frame.DataFrame'>\n",
      "RangeIndex: 2354 entries, 0 to 2353\n",
      "Data columns (total 3 columns):\n",
      "favorite_count    2354 non-null int64\n",
      "retweet_count     2354 non-null int64\n",
      "tweet_id          2354 non-null object\n",
      "dtypes: int64(2), object(1)\n",
      "memory usage: 55.2+ KB\n",
      "\n",
      "Missing Values:\n",
      "favorite_count    0\n",
      "retweet_count     0\n",
      "tweet_id          0\n",
      "dtype: int64\n",
      "\n",
      "Engagement Statistics:\n",
      "       retweet_count  favorite_count\n",
      "count    2354.000000     2354.000000\n",
      "mean     3164.797366     8080.968564\n",
      "std      5284.770364    11814.771334\n",
      "min         0.000000        0.000000\n",
      "25%       624.500000     1415.000000\n",
      "50%      1473.500000     3603.500000\n",
      "75%      3652.000000    10122.250000\n",
      "max     79515.000000   132810.000000\n",
      "\n",
      "Duplicate Tweets:\n",
      "Duplicates: 0\n"
     ]
    }
   ],
   "source": [
    "print(\"\\n\" + \"-\"*50)\n",
    "print(\"Programmatic Assessment: API Data\")\n",
    "print(\"-\"*50)\n",
    "\n",
    "if api_data.empty:\n",
    "    print(\"\\nWARNING: API Data is empty!\")\n",
    "else:\n",
    "    print(\"\\nBasic Information:\")\n",
    "    api_data.info()\n",
    "\n",
    "    print(\"\\nMissing Values:\")\n",
    "    print(api_data.isnull().sum())\n",
    "\n",
    "    if 'retweet_count' in api_data.columns and 'favorite_count' in api_data.columns:\n",
    "        print(\"\\nEngagement Statistics:\")\n",
    "        print(api_data[['retweet_count', 'favorite_count']].describe())\n",
    "    else:\n",
    "        print(\"\\nEngagement Statistics: Required columns missing\")\n",
    "        print(\"Available columns:\", api_data.columns.tolist())\n",
    "    print(\"\\nDuplicate Tweets:\")\n",
    "    if 'tweet_id' in api_data.columns:\n",
    "        print(\"Duplicates:\", api_data['tweet_id'].duplicated().sum())\n",
    "    else:\n",
    "        print(\"tweet_id column missing - cannot check duplicates\")"
   ]
  },
  {
   "cell_type": "code",
   "execution_count": 10,
   "metadata": {},
   "outputs": [
    {
     "name": "stdout",
     "output_type": "stream",
     "text": [
      "\n",
      "Assessment complete! Report saved to 'assessment_report.txt'\n"
     ]
    }
   ],
   "source": [
    "with open('assessment_report.txt', 'w') as f:\n",
    "    f.write(\"WeRateDogs Data Assessment Report\\n\")\n",
    "    f.write(\"=\"*40 + \"\\n\\n\")\n",
    "    f.write(\"Quality Issues Identified:\\n\")\n",
    "    f.write(\"1. Missing values in expanded_urls\\n\")\n",
    "    f.write(\"2. Incorrect dog stages (multiple values in same row)\\n\")\n",
    "    f.write(\"3. Timestamp as string\\n\")\n",
    "    f.write(\"4. Rating numerator outliers\\n\")\n",
    "    f.write(\"5. Rating denominator outliers\\n\")\n",
    "    f.write(\"6. Source column HTML tags\\n\")\n",
    "    f.write(\"7. Retweets included\\n\")\n",
    "    f.write(\"8. Image predictions contain non-dog results\\n\")\n",
    "    f.write(\"9. Some tweets have no image predictions\\n\")\n",
    "    f.write(\"10. Inconsistent capitalization in dog breeds\\n\\n\")\n",
    "    \n",
    "    f.write(\"Tidiness Issues Identified:\\n\")\n",
    "    f.write(\"1. Dog stages in four separate columns\\n\")\n",
    "    f.write(\"2. Three separate datasets\\n\")\n",
    "    f.write(\"3. Image predictions in wide format\\n\\n\")\n",
    "    f.write(\"Cleaning Plan:\\n\")\n",
    "    f.write(\"- Remove retweets and non-image tweets\\n\")\n",
    "    f.write(\"- Combine dog stage columns\\n\")\n",
    "    f.write(\"- Extract correct ratings from text\\n\")\n",
    "    f.write(\"- Convert timestamp to datetime\\n\")\n",
    "    f.write(\"- Clean source column\\n\")\n",
    "    f.write(\"- Filter only dog predictions\\n\")\n",
    "    f.write(\"- Merge all datasets into one\\n\")\n",
    "    f.write(\"- Standardize breed names\\n\")\n",
    "print(\"\\nAssessment complete! Report saved to 'assessment_report.txt'\")"
   ]
  },
  {
   "cell_type": "markdown",
   "metadata": {},
   "source": [
    "### Quality issues\n",
    "\n",
    "1. Missing values in expanded_urls\n",
    "2. Incorrect dog stages (multiple values in same row)\n",
    "3. Timestamp as string\n",
    "4. Rating numerator outliers\n",
    "5. Rating denominator outliers\n",
    "6. Source column HTML tags\n",
    "7. Retweets included\n",
    "8. Image predictions contain non-dog results"
   ]
  },
  {
   "cell_type": "markdown",
   "metadata": {
    "extensions": {
     "jupyter_dashboards": {
      "version": 1,
      "views": {
       "grid_default": {
        "col": 0,
        "height": 7,
        "hidden": false,
        "row": 40,
        "width": 12
       },
       "report_default": {
        "hidden": false
       }
      }
     }
    }
   },
   "source": [
    "### Tidiness issues\n",
    "1. Dog stages in four separate columns\n",
    "2. Three separate datasets"
   ]
  },
  {
   "cell_type": "markdown",
   "metadata": {
    "extensions": {
     "jupyter_dashboards": {
      "version": 1,
      "views": {
       "grid_default": {
        "col": 4,
        "height": 4,
        "hidden": false,
        "row": 32,
        "width": 4
       },
       "report_default": {
        "hidden": false
       }
      }
     }
    }
   },
   "source": [
    "## Cleaning Data"
   ]
  },
  {
   "cell_type": "code",
   "execution_count": 11,
   "metadata": {},
   "outputs": [
    {
     "name": "stdout",
     "output_type": "stream",
     "text": [
      "Start cleaning...\n"
     ]
    }
   ],
   "source": [
    "archive_clean = archive.copy()\n",
    "predictions_clean = image_predictions.copy()\n",
    "api_clean = api_data.copy()\n",
    "print(\"Start cleaning...\")"
   ]
  },
  {
   "cell_type": "markdown",
   "metadata": {},
   "source": [
    "### Issue #1:"
   ]
  },
  {
   "cell_type": "markdown",
   "metadata": {},
   "source": [
    "#### Define: Missing values in expanded_urls"
   ]
  },
  {
   "cell_type": "markdown",
   "metadata": {},
   "source": [
    "#### Code"
   ]
  },
  {
   "cell_type": "code",
   "execution_count": 12,
   "metadata": {},
   "outputs": [
    {
     "name": "stdout",
     "output_type": "stream",
     "text": [
      "\n",
      "Fixing quality issue 1: Removing tweets without expanded URLs...\n"
     ]
    }
   ],
   "source": [
    "print(\"\\nFixing quality issue 1: Removing tweets without expanded URLs...\")\n",
    "\n",
    "archive_clean = archive_clean.dropna(subset=['expanded_urls'])"
   ]
  },
  {
   "cell_type": "markdown",
   "metadata": {},
   "source": [
    "#### Test"
   ]
  },
  {
   "cell_type": "code",
   "execution_count": 13,
   "metadata": {},
   "outputs": [
    {
     "name": "stdout",
     "output_type": "stream",
     "text": [
      "Testing Issue #1:\n",
      "- Rows before: 2356\n",
      "- Rows after: 2297\n",
      "- Missing values in expanded_urls: 0\n"
     ]
    }
   ],
   "source": [
    "print(\"Testing Issue #1:\")\n",
    "print(f\"- Rows before: {len(archive)}\")\n",
    "print(f\"- Rows after: {len(archive_clean)}\")\n",
    "print(f\"- Missing values in expanded_urls: {archive_clean['expanded_urls'].isnull().sum()}\")\n"
   ]
  },
  {
   "cell_type": "markdown",
   "metadata": {},
   "source": [
    "### Issue #2:"
   ]
  },
  {
   "cell_type": "markdown",
   "metadata": {
    "collapsed": true,
    "extensions": {
     "jupyter_dashboards": {
      "version": 1,
      "views": {
       "grid_default": {
        "hidden": true
       },
       "report_default": {
        "hidden": true
       }
      }
     }
    }
   },
   "source": [
    "#### Define: Incorrect dog stages (multiple values)"
   ]
  },
  {
   "cell_type": "markdown",
   "metadata": {},
   "source": [
    "#### Code"
   ]
  },
  {
   "cell_type": "code",
   "execution_count": 14,
   "metadata": {},
   "outputs": [
    {
     "name": "stdout",
     "output_type": "stream",
     "text": [
      "\n",
      "Fixing quality issue 2: Standardizing dog stages...\n"
     ]
    }
   ],
   "source": [
    "print(\"\\nFixing quality issue 2: Standardizing dog stages...\")\n",
    "\n",
    "def combine_dog_stages(row):\n",
    "    stages = []\n",
    "    if row['doggo'] == 'doggo': stages.append('doggo')\n",
    "    if row['pupper'] == 'pupper': stages.append('pupper')\n",
    "    if row['puppo'] == 'puppo': stages.append('puppo')\n",
    "    if row['floofer'] == 'floofer': stages.append('floofer')\n",
    "    return ', '.join(stages) if stages else None\n",
    "\n",
    "archive_clean['dog_stage'] = archive_clean.apply(combine_dog_stages, axis=1)"
   ]
  },
  {
   "cell_type": "markdown",
   "metadata": {},
   "source": [
    "#### Test"
   ]
  },
  {
   "cell_type": "code",
   "execution_count": 15,
   "metadata": {},
   "outputs": [
    {
     "name": "stdout",
     "output_type": "stream",
     "text": [
      "Testing Issue #2:\n",
      "Sample dog stage combinations before cleaning:\n",
      "   doggo pupper puppo floofer\n",
      "0   None   None  None    None\n",
      "1   None   None  None    None\n",
      "2   None   None  None    None\n",
      "3   None   None  None    None\n",
      "4   None   None  None    None\n",
      "5   None   None  None    None\n",
      "6   None   None  None    None\n",
      "7   None   None  None    None\n",
      "8   None   None  None    None\n",
      "9  doggo   None  None    None\n",
      "\n",
      "Dog stage after combining:\n",
      "NaN               1923\n",
      "pupper             243\n",
      "doggo               80\n",
      "puppo               28\n",
      "doggo, pupper       12\n",
      "floofer              9\n",
      "doggo, floofer       1\n",
      "doggo, puppo         1\n",
      "Name: dog_stage, dtype: int64\n"
     ]
    }
   ],
   "source": [
    "print(\"Testing Issue #2:\")\n",
    "print(\"Sample dog stage combinations before cleaning:\")\n",
    "print(archive[['doggo', 'pupper', 'puppo', 'floofer']].head(10))\n",
    "print(\"\\nDog stage after combining:\")\n",
    "print(archive_clean['dog_stage'].value_counts(dropna=False).head(10))"
   ]
  },
  {
   "cell_type": "markdown",
   "metadata": {},
   "source": [
    "### Issue #3:"
   ]
  },
  {
   "cell_type": "markdown",
   "metadata": {},
   "source": [
    "#### Define: Timestamp as string"
   ]
  },
  {
   "cell_type": "markdown",
   "metadata": {},
   "source": [
    "#### Code"
   ]
  },
  {
   "cell_type": "code",
   "execution_count": 16,
   "metadata": {},
   "outputs": [
    {
     "name": "stdout",
     "output_type": "stream",
     "text": [
      "\n",
      "Fixing quality issue 3: Converting timestamp to datetime...\n"
     ]
    }
   ],
   "source": [
    "print(\"\\nFixing quality issue 3: Converting timestamp to datetime...\")\n",
    "\n",
    "archive_clean['timestamp'] = pd.to_datetime(archive_clean['timestamp'])"
   ]
  },
  {
   "cell_type": "markdown",
   "metadata": {},
   "source": [
    "#### Test"
   ]
  },
  {
   "cell_type": "code",
   "execution_count": 17,
   "metadata": {},
   "outputs": [
    {
     "name": "stdout",
     "output_type": "stream",
     "text": [
      "Testing Issue #3:\n",
      "- Data type before: <class 'str'>\n",
      "- Data type after: <class 'pandas._libs.tslibs.timestamps.Timestamp'>\n"
     ]
    }
   ],
   "source": [
    "print(\"Testing Issue #3:\")\n",
    "print(f\"- Data type before: {type(archive['timestamp'].iloc[0])}\")\n",
    "print(f\"- Data type after: {type(archive_clean['timestamp'].iloc[0])}\")"
   ]
  },
  {
   "cell_type": "markdown",
   "metadata": {},
   "source": [
    "### Issue #4:"
   ]
  },
  {
   "cell_type": "markdown",
   "metadata": {},
   "source": [
    "#### Define: Rating numerator outliers"
   ]
  },
  {
   "cell_type": "markdown",
   "metadata": {},
   "source": [
    "#### Code"
   ]
  },
  {
   "cell_type": "code",
   "execution_count": 18,
   "metadata": {},
   "outputs": [
    {
     "name": "stdout",
     "output_type": "stream",
     "text": [
      "\n",
      "Fixing quality issue 4: Correcting rating numerators...\n"
     ]
    }
   ],
   "source": [
    "print(\"\\nFixing quality issue 4: Correcting rating numerators...\")\n",
    "\n",
    "def extract_numerator(text):\n",
    "    match = re.search(r'(\\d+\\.?\\d*)\\s*\\/\\s*10', text, re.IGNORECASE)\n",
    "    if match:\n",
    "        numerator = float(match.group(1))\n",
    "        return min(numerator, 20)\n",
    "    return np.nan\n",
    "\n",
    "archive_clean['rating_numerator'] = archive_clean['text'].apply(extract_numerator)"
   ]
  },
  {
   "cell_type": "markdown",
   "metadata": {},
   "source": [
    "#### Test"
   ]
  },
  {
   "cell_type": "code",
   "execution_count": 19,
   "metadata": {},
   "outputs": [
    {
     "name": "stdout",
     "output_type": "stream",
     "text": [
      "Testing Issue #4:\n",
      "Rating numerators before cleaning:\n",
      "121     1\n",
      "143     1\n",
      "144     1\n",
      "165     1\n",
      "182     1\n",
      "204     1\n",
      "420     2\n",
      "666     1\n",
      "960     1\n",
      "1776    1\n",
      "Name: rating_numerator, dtype: int64\n",
      "\n",
      "Rating numerators after cleaning:\n",
      "10.00    456\n",
      "11.00    456\n",
      "11.26      1\n",
      "11.27      1\n",
      "12.00    547\n",
      "13.00    340\n",
      "13.50      1\n",
      "14.00     52\n",
      "15.00      1\n",
      "20.00      2\n",
      "Name: rating_numerator, dtype: int64\n"
     ]
    }
   ],
   "source": [
    "print(\"Testing Issue #4:\")\n",
    "print(\"Rating numerators before cleaning:\")\n",
    "print(archive['rating_numerator'].value_counts().sort_index().tail(10))\n",
    "print(\"\\nRating numerators after cleaning:\")\n",
    "print(archive_clean['rating_numerator'].value_counts().sort_index().tail(10))"
   ]
  },
  {
   "cell_type": "markdown",
   "metadata": {},
   "source": [
    "### Issue #5:"
   ]
  },
  {
   "cell_type": "markdown",
   "metadata": {},
   "source": [
    "#### Define: Rating denominator outliers"
   ]
  },
  {
   "cell_type": "markdown",
   "metadata": {},
   "source": [
    "#### Code"
   ]
  },
  {
   "cell_type": "code",
   "execution_count": 20,
   "metadata": {},
   "outputs": [
    {
     "name": "stdout",
     "output_type": "stream",
     "text": [
      "\n",
      "Fixing quality issue 5: Standardizing denominators to 10...\n"
     ]
    }
   ],
   "source": [
    "print(\"\\nFixing quality issue 5: Standardizing denominators to 10...\")\n",
    "\n",
    "archive_clean['rating_denominator'] = 10"
   ]
  },
  {
   "cell_type": "markdown",
   "metadata": {},
   "source": [
    "#### Test"
   ]
  },
  {
   "cell_type": "code",
   "execution_count": 21,
   "metadata": {},
   "outputs": [
    {
     "name": "stdout",
     "output_type": "stream",
     "text": [
      "Testing Issue #5:\n",
      "Rating denominators before cleaning:\n",
      "10    2333\n",
      "11       3\n",
      "50       3\n",
      "80       2\n",
      "20       2\n",
      "Name: rating_denominator, dtype: int64\n",
      "\n",
      "Rating denominators after cleaning:\n",
      "10    2297\n",
      "Name: rating_denominator, dtype: int64\n"
     ]
    }
   ],
   "source": [
    "print(\"Testing Issue #5:\")\n",
    "print(\"Rating denominators before cleaning:\")\n",
    "print(archive['rating_denominator'].value_counts().head())\n",
    "print(\"\\nRating denominators after cleaning:\")\n",
    "print(archive_clean['rating_denominator'].value_counts())"
   ]
  },
  {
   "cell_type": "markdown",
   "metadata": {},
   "source": [
    "### Issue #6:"
   ]
  },
  {
   "cell_type": "markdown",
   "metadata": {},
   "source": [
    "#### Define: Source column HTML tags"
   ]
  },
  {
   "cell_type": "markdown",
   "metadata": {},
   "source": [
    "#### Code"
   ]
  },
  {
   "cell_type": "code",
   "execution_count": 22,
   "metadata": {},
   "outputs": [
    {
     "name": "stdout",
     "output_type": "stream",
     "text": [
      "\n",
      "Fixing quality issue 6: Cleaning source column...\n"
     ]
    }
   ],
   "source": [
    "print(\"\\nFixing quality issue 6: Cleaning source column...\")\n",
    "\n",
    "archive_clean['source'] = archive_clean['source'].str.extract(r'>(.*?)<')"
   ]
  },
  {
   "cell_type": "markdown",
   "metadata": {},
   "source": [
    "#### Test"
   ]
  },
  {
   "cell_type": "code",
   "execution_count": 23,
   "metadata": {},
   "outputs": [
    {
     "name": "stdout",
     "output_type": "stream",
     "text": [
      "Testing Issue #6:\n",
      "Source values before cleaning:\n",
      "0    <a href=\"http://twitter.com/download/iphone\" r...\n",
      "1    <a href=\"http://twitter.com/download/iphone\" r...\n",
      "Name: source, dtype: object\n",
      "\n",
      "Source values after cleaning:\n",
      "0    Twitter for iPhone\n",
      "1    Twitter for iPhone\n",
      "Name: source, dtype: object\n"
     ]
    }
   ],
   "source": [
    "print(\"Testing Issue #6:\")\n",
    "print(\"Source values before cleaning:\")\n",
    "print(archive['source'].head(2))\n",
    "print(\"\\nSource values after cleaning:\")\n",
    "print(archive_clean['source'].head(2))"
   ]
  },
  {
   "cell_type": "markdown",
   "metadata": {},
   "source": [
    "### Issue #7:"
   ]
  },
  {
   "cell_type": "markdown",
   "metadata": {
    "collapsed": true,
    "extensions": {
     "jupyter_dashboards": {
      "version": 1,
      "views": {
       "grid_default": {
        "hidden": true
       },
       "report_default": {
        "hidden": true
       }
      }
     }
    }
   },
   "source": [
    "#### Define: Retweets included"
   ]
  },
  {
   "cell_type": "markdown",
   "metadata": {},
   "source": [
    "#### Code"
   ]
  },
  {
   "cell_type": "code",
   "execution_count": 24,
   "metadata": {},
   "outputs": [
    {
     "name": "stdout",
     "output_type": "stream",
     "text": [
      "\n",
      "Fixing quality issue 7: Removing retweets...\n"
     ]
    }
   ],
   "source": [
    "print(\"\\nFixing quality issue 7: Removing retweets...\")\n",
    "\n",
    "archive_clean = archive_clean[archive_clean['retweeted_status_id'].isna()]"
   ]
  },
  {
   "cell_type": "markdown",
   "metadata": {},
   "source": [
    "#### Test"
   ]
  },
  {
   "cell_type": "code",
   "execution_count": 25,
   "metadata": {},
   "outputs": [
    {
     "name": "stdout",
     "output_type": "stream",
     "text": [
      "Testing Issue #7:\n",
      "- Rows before: 2356\n",
      "- Rows after: 2117\n",
      "- Retweets remaining: 0\n"
     ]
    }
   ],
   "source": [
    "print(\"Testing Issue #7:\")\n",
    "print(f\"- Rows before: {len(archive)}\")\n",
    "print(f\"- Rows after: {len(archive_clean)}\")\n",
    "print(f\"- Retweets remaining: {archive_clean['retweeted_status_id'].notna().sum()}\")"
   ]
  },
  {
   "cell_type": "markdown",
   "metadata": {},
   "source": [
    "### Issue #8:"
   ]
  },
  {
   "cell_type": "markdown",
   "metadata": {},
   "source": [
    "#### Define: Image predictions contain non-dog results"
   ]
  },
  {
   "cell_type": "markdown",
   "metadata": {},
   "source": [
    "#### Code"
   ]
  },
  {
   "cell_type": "code",
   "execution_count": 26,
   "metadata": {},
   "outputs": [
    {
     "name": "stdout",
     "output_type": "stream",
     "text": [
      "\n",
      "Fixing quality issue 8: Filtering to only dog predictions...\n"
     ]
    }
   ],
   "source": [
    "print(\"\\nFixing quality issue 8: Filtering to only dog predictions...\")\n",
    "\n",
    "predictions_clean = predictions_clean[\n",
    "    (predictions_clean['p1_dog'] == True) | \n",
    "    (predictions_clean['p2_dog'] == True) | \n",
    "    (predictions_clean['p3_dog'] == True)\n",
    "]"
   ]
  },
  {
   "cell_type": "markdown",
   "metadata": {},
   "source": [
    "#### Test"
   ]
  },
  {
   "cell_type": "code",
   "execution_count": 27,
   "metadata": {},
   "outputs": [
    {
     "name": "stdout",
     "output_type": "stream",
     "text": [
      "Testing Issue #8:\n",
      "Non-dog predictions before cleaning:\n",
      "- Total predictions: 2075\n",
      "- Non-dog predictions: 324\n",
      "\n",
      "After cleaning:\n",
      "- Total predictions: 1751\n",
      "- Non-dog predictions: 0\n"
     ]
    }
   ],
   "source": [
    "print(\"Testing Issue #8:\")\n",
    "print(\"Non-dog predictions before cleaning:\")\n",
    "print(f\"- Total predictions: {len(image_predictions)}\")\n",
    "print(f\"- Non-dog predictions: {len(image_predictions) - image_predictions[['p1_dog', 'p2_dog', 'p3_dog']].any(axis=1).sum()}\")\n",
    "print(\"\\nAfter cleaning:\")\n",
    "print(f\"- Total predictions: {len(predictions_clean)}\")\n",
    "print(f\"- Non-dog predictions: {len(predictions_clean) - predictions_clean[['p1_dog', 'p2_dog', 'p3_dog']].any(axis=1).sum()}\")"
   ]
  },
  {
   "cell_type": "markdown",
   "metadata": {},
   "source": [
    "### Issue #9: "
   ]
  },
  {
   "cell_type": "markdown",
   "metadata": {},
   "source": [
    "#### Define: Dog stages in four separate columns"
   ]
  },
  {
   "cell_type": "markdown",
   "metadata": {},
   "source": [
    "#### Code"
   ]
  },
  {
   "cell_type": "code",
   "execution_count": 28,
   "metadata": {},
   "outputs": [
    {
     "name": "stdout",
     "output_type": "stream",
     "text": [
      "\n",
      "Fixing tidiness issue 1: Removing separate dog stage columns...\n"
     ]
    }
   ],
   "source": [
    "print(\"\\nFixing tidiness issue 1: Removing separate dog stage columns...\")\n",
    "\n",
    "archive_clean = archive_clean.drop(columns=['doggo', 'pupper', 'puppo', 'floofer'])"
   ]
  },
  {
   "cell_type": "markdown",
   "metadata": {},
   "source": [
    "#### Test"
   ]
  },
  {
   "cell_type": "code",
   "execution_count": 29,
   "metadata": {},
   "outputs": [
    {
     "name": "stdout",
     "output_type": "stream",
     "text": [
      "Testing Tidiness Issue #1:\n",
      "Columns before:\n",
      "['tweet_id', 'in_reply_to_status_id', 'in_reply_to_user_id', 'timestamp', 'source', 'text', 'retweeted_status_id', 'retweeted_status_user_id', 'retweeted_status_timestamp', 'expanded_urls', 'rating_numerator', 'rating_denominator', 'name', 'doggo', 'floofer', 'pupper', 'puppo']\n",
      "\n",
      "Columns after:\n",
      "['tweet_id', 'in_reply_to_status_id', 'in_reply_to_user_id', 'timestamp', 'source', 'text', 'retweeted_status_id', 'retweeted_status_user_id', 'retweeted_status_timestamp', 'expanded_urls', 'rating_numerator', 'rating_denominator', 'name', 'dog_stage']\n"
     ]
    }
   ],
   "source": [
    "print(\"Testing Tidiness Issue #1:\")\n",
    "print(\"Columns before:\")\n",
    "print(archive.columns.tolist())\n",
    "print(\"\\nColumns after:\")\n",
    "print(archive_clean.columns.tolist())"
   ]
  },
  {
   "cell_type": "markdown",
   "metadata": {},
   "source": [
    "### Issue #10:"
   ]
  },
  {
   "cell_type": "markdown",
   "metadata": {},
   "source": [
    "#### Define: Three separate datasets"
   ]
  },
  {
   "cell_type": "markdown",
   "metadata": {},
   "source": [
    "#### Code"
   ]
  },
  {
   "cell_type": "code",
   "execution_count": 30,
   "metadata": {
    "scrolled": true
   },
   "outputs": [
    {
     "name": "stdout",
     "output_type": "stream",
     "text": [
      "\n",
      "Fixing tidiness issue 2: Merging datasets into one master table...\n"
     ]
    }
   ],
   "source": [
    "print(\"\\nFixing tidiness issue 2: Merging datasets into one master table...\")\n",
    "\n",
    "for df in [archive_clean, predictions_clean, api_clean]:\n",
    "    df['tweet_id'] = df['tweet_id'].astype(str)\n",
    "\n",
    "merged = pd.merge(archive_clean, predictions_clean, on='tweet_id', how='inner')\n",
    "df_clean = pd.merge(merged, api_clean, on='tweet_id', how='left')"
   ]
  },
  {
   "cell_type": "markdown",
   "metadata": {},
   "source": [
    "#### Test"
   ]
  },
  {
   "cell_type": "code",
   "execution_count": 31,
   "metadata": {
    "scrolled": true
   },
   "outputs": [
    {
     "name": "stdout",
     "output_type": "stream",
     "text": [
      "Testing Tidiness Issue #2:\n",
      "- Merged dataset shape: (1686, 27)\n",
      "- Columns: ['tweet_id', 'in_reply_to_status_id', 'in_reply_to_user_id', 'timestamp', 'source', 'text', 'retweeted_status_id', 'retweeted_status_user_id', 'retweeted_status_timestamp', 'expanded_urls', 'rating_numerator', 'rating_denominator', 'name', 'dog_stage', 'jpg_url', 'img_num', 'p1', 'p1_conf', 'p1_dog', 'p2', 'p2_conf', 'p2_dog', 'p3', 'p3_conf', 'p3_dog', 'favorite_count', 'retweet_count']\n",
      "- Columns in archive: 14\n",
      "- Columns in predictions: 12\n",
      "- Columns in API: 3\n",
      "- Columns in merged: 27\n",
      "- Rows in merged: 1686\n"
     ]
    }
   ],
   "source": [
    "print(\"Testing Tidiness Issue #2:\")\n",
    "print(f\"- Merged dataset shape: {df_clean.shape}\")\n",
    "print(f\"- Columns: {df_clean.columns.tolist()}\")\n",
    "print(f\"- Columns in archive: {len(archive_clean.columns)}\")\n",
    "print(f\"- Columns in predictions: {len(predictions_clean.columns)}\")\n",
    "print(f\"- Columns in API: {len(api_clean.columns)}\")\n",
    "print(f\"- Columns in merged: {len(df_clean.columns)}\")\n",
    "print(f\"- Rows in merged: {len(df_clean)}\")"
   ]
  },
  {
   "cell_type": "code",
   "execution_count": 32,
   "metadata": {
    "scrolled": true
   },
   "outputs": [
    {
     "name": "stdout",
     "output_type": "stream",
     "text": [
      "\n",
      "Performing final cleaning steps...\n"
     ]
    }
   ],
   "source": [
    "print(\"\\nPerforming final cleaning steps...\")\n",
    "\n",
    "# Standardize dog stage\n",
    "df_clean['dog_stage'] = df_clean['dog_stage'].str.split(',').str[0].fillna('unknown')\n",
    "\n",
    "# Standardize breed names\n",
    "df_clean['p1'] = df_clean['p1'].str.title()\n",
    "df_clean['p2'] = df_clean['p2'].str.title()\n",
    "df_clean['p3'] = df_clean['p3'].str.title()\n",
    "\n",
    "# Clean up unnecessary columns\n",
    "cols_to_drop = [\n",
    "    'in_reply_to_status_id', 'in_reply_to_user_id', \n",
    "    'retweeted_status_id', 'retweeted_status_user_id',\n",
    "    'retweeted_status_timestamp', 'jpg_url', 'img_num'\n",
    "]\n",
    "df_clean = df_clean.drop(columns=cols_to_drop)"
   ]
  },
  {
   "cell_type": "markdown",
   "metadata": {},
   "source": [
    "## Storing Data\n",
    "Save gathered, assessed, and cleaned master dataset to a CSV file named \"twitter_archive_master.csv\"."
   ]
  },
  {
   "cell_type": "code",
   "execution_count": 33,
   "metadata": {},
   "outputs": [
    {
     "name": "stdout",
     "output_type": "stream",
     "text": [
      "\n",
      "Cleaned data saved to 'twitter_archive_master.csv'\n",
      "\n",
      "Final cleaning verification:\n",
      "- Original archive rows: 2356\n",
      "- Cleaned master rows: 1686\n",
      "- Columns reduced from 32 to 20\n",
      "\n",
      "Master dataset saved successfully!\n",
      "- File name: twitter_archive_master.csv\n",
      "- Rows saved: 1686\n",
      "- Columns saved: 20\n",
      "\n",
      "First 3 rows preview:\n",
      "             tweet_id           timestamp              source  \\\n",
      "0  892177421306343426 2017-08-01 00:17:27  Twitter for iPhone   \n",
      "1  891815181378084864 2017-07-31 00:18:03  Twitter for iPhone   \n",
      "2  891689557279858688 2017-07-30 15:58:51  Twitter for iPhone   \n",
      "\n",
      "                                                text  \\\n",
      "0  This is Tilly. She's just checking pup on you....   \n",
      "1  This is Archie. He is a rare Norwegian Pouncin...   \n",
      "2  This is Darla. She commenced a snooze mid meal...   \n",
      "\n",
      "                                       expanded_urls  rating_numerator  \\\n",
      "0  https://twitter.com/dog_rates/status/892177421...              13.0   \n",
      "1  https://twitter.com/dog_rates/status/891815181...              12.0   \n",
      "2  https://twitter.com/dog_rates/status/891689557...              13.0   \n",
      "\n",
      "   rating_denominator    name dog_stage           p1   p1_conf  p1_dog  \\\n",
      "0                  10   Tilly   unknown    Chihuahua  0.323581    True   \n",
      "1                  10  Archie   unknown    Chihuahua  0.716012    True   \n",
      "2                  10   Darla   unknown  Paper_Towel  0.170278   False   \n",
      "\n",
      "                   p2   p2_conf  p2_dog        p3   p3_conf  p3_dog  \\\n",
      "0            Pekinese  0.090647    True  Papillon  0.068957    True   \n",
      "1            Malamute  0.078253    True    Kelpie  0.031379    True   \n",
      "2  Labrador_Retriever  0.168086    True   Spatula  0.040836   False   \n",
      "\n",
      "   favorite_count  retweet_count  \n",
      "0           33819           6514  \n",
      "1           25461           4328  \n",
      "2           42908           8964  \n"
     ]
    }
   ],
   "source": [
    "df_clean.to_csv('twitter_archive_master.csv', index=False)\n",
    "print(\"\\nCleaned data saved to 'twitter_archive_master.csv'\")\n",
    "\n",
    "# Final cleaning verification\n",
    "print(\"\\nFinal cleaning verification:\")\n",
    "print(\"- Original archive rows: {}\".format(len(archive)))\n",
    "print(\"- Cleaned master rows: {}\".format(len(df_clean)))\n",
    "print(\"- Columns reduced from {} to {}\".format(\n",
    "    len(archive.columns) + len(image_predictions.columns) + len(api_data.columns),\n",
    "    len(df_clean.columns)\n",
    "))\n",
    "# Verification step\n",
    "print(\"\\nMaster dataset saved successfully!\")\n",
    "print(f\"- File name: twitter_archive_master.csv\")\n",
    "print(f\"- Rows saved: {len(df_clean)}\")\n",
    "print(f\"- Columns saved: {len(df_clean.columns)}\")\n",
    "print(\"\\nFirst 3 rows preview:\")\n",
    "print(df_clean.head(3))"
   ]
  },
  {
   "cell_type": "markdown",
   "metadata": {},
   "source": [
    "## Analyzing and Visualizing Data"
   ]
  },
  {
   "cell_type": "code",
   "execution_count": 34,
   "metadata": {},
   "outputs": [],
   "source": [
    "import pandas as pd\n",
    "import matplotlib.pyplot as plt\n",
    "import seaborn as sns"
   ]
  },
  {
   "cell_type": "code",
   "execution_count": 35,
   "metadata": {},
   "outputs": [],
   "source": [
    "df = pd.read_csv('twitter_archive_master.csv')\n",
    "plt.style.use('fivethirtyeight')\n",
    "sns.set_palette(\"pastel\")\n",
    "plt.rcParams['font.size'] = 12\n",
    "plt.rcParams['axes.labelsize'] = 12\n",
    "plt.rcParams['axes.titlesize'] = 16"
   ]
  },
  {
   "cell_type": "markdown",
   "metadata": {},
   "source": [
    "### Insights:\n",
    "1. TOP DOG BREEDS\n",
    "\n",
    "2. RATING DISTRIBUTION\n",
    "\n",
    "3. ENGAGEMENT BY DOG STAGE"
   ]
  },
  {
   "cell_type": "code",
   "execution_count": 36,
   "metadata": {},
   "outputs": [
    {
     "name": "stdout",
     "output_type": "stream",
     "text": [
      "\n",
      "INSIGHT 1: TOP 5 DOG BREEDS\n",
      "============================\n",
      "Golden_Retriever      139\n",
      "Labrador_Retriever     95\n",
      "Pembroke               88\n",
      "Chihuahua              79\n",
      "Pug                    54\n",
      "Name: p1, dtype: int64\n"
     ]
    }
   ],
   "source": [
    "top_breeds = df['p1'].value_counts().head(5)\n",
    "print(\"\\nINSIGHT 1: TOP 5 DOG BREEDS\")\n",
    "print(\"============================\")\n",
    "print(top_breeds)"
   ]
  },
  {
   "cell_type": "code",
   "execution_count": 37,
   "metadata": {},
   "outputs": [
    {
     "name": "stdout",
     "output_type": "stream",
     "text": [
      "\n",
      "INSIGHT 2: RATING DISTRIBUTION\n",
      "==============================\n",
      "- Average rating: 10.84/10\n",
      "- Highest rating: 14.0/10\n",
      "- Most common rating: 12.0/10\n"
     ]
    }
   ],
   "source": [
    "rating_stats = df['rating_numerator'].describe()\n",
    "print(\"\\nINSIGHT 2: RATING DISTRIBUTION\")\n",
    "print(\"==============================\")\n",
    "print(\"- Average rating: {:.2f}/10\".format(rating_stats['mean']))\n",
    "print(\"- Highest rating: {}/10\".format(rating_stats['max']))\n",
    "print(\"- Most common rating: {}/10\".format(df['rating_numerator'].mode()[0]))"
   ]
  },
  {
   "cell_type": "code",
   "execution_count": 38,
   "metadata": {},
   "outputs": [
    {
     "name": "stdout",
     "output_type": "stream",
     "text": [
      "\n",
      "INSIGHT 3: ENGAGEMENT BY DOG STAGE\n",
      "==================================\n",
      "           favorite_count  retweet_count\n",
      "dog_stage                               \n",
      "puppo        21457.809524    6375.761905\n",
      "doggo        19014.140625    6844.562500\n",
      "floofer      13206.000000    4968.714286\n",
      "unknown       8796.799439    2620.543478\n",
      "pupper        7516.821429    2416.916667\n"
     ]
    }
   ],
   "source": [
    "engagement = df.groupby('dog_stage').agg({\n",
    "    'favorite_count': 'mean',\n",
    "    'retweet_count': 'mean'\n",
    "}).sort_values('favorite_count', ascending=False)\n",
    "\n",
    "print(\"\\nINSIGHT 3: ENGAGEMENT BY DOG STAGE\")\n",
    "print(\"==================================\")\n",
    "print(engagement)"
   ]
  },
  {
   "cell_type": "markdown",
   "metadata": {
    "collapsed": true
   },
   "source": [
    "### Visualization"
   ]
  },
  {
   "cell_type": "code",
   "execution_count": 39,
   "metadata": {},
   "outputs": [
    {
     "name": "stdout",
     "output_type": "stream",
     "text": [
      "Engagement data:\n",
      "           favorite_count  retweet_count\n",
      "dog_stage                               \n",
      "puppo        21457.809524    6375.761905\n",
      "doggo        19014.140625    6844.562500\n",
      "floofer      13206.000000    4968.714286\n",
      "unknown       8796.799439    2620.543478\n",
      "pupper        7516.821429    2416.916667\n",
      "\n",
      "Finite check - Favorites:\n",
      "dog_stage\n",
      "puppo      True\n",
      "doggo      True\n",
      "floofer    True\n",
      "unknown    True\n",
      "pupper     True\n",
      "Name: favorite_count, dtype: bool\n",
      "\n",
      "Finite check - Retweets:\n",
      "dog_stage\n",
      "puppo      True\n",
      "doggo      True\n",
      "floofer    True\n",
      "unknown    True\n",
      "pupper     True\n",
      "Name: retweet_count, dtype: bool\n"
     ]
    }
   ],
   "source": [
    "print(\"Engagement data:\")\n",
    "print(engagement)\n",
    "engagement = engagement.apply(pd.to_numeric, errors='coerce').fillna(0)\n",
    "\n",
    "print(\"\\nFinite check - Favorites:\")\n",
    "print(np.isfinite(engagement['favorite_count']))\n",
    "\n",
    "print(\"\\nFinite check - Retweets:\")\n",
    "print(np.isfinite(engagement['retweet_count']))"
   ]
  },
  {
   "cell_type": "code",
   "execution_count": 40,
   "metadata": {},
   "outputs": [
    {
     "data": {
      "image/png": "[encoded data removed]",
      "text/plain": [
       "<matplotlib.figure.Figure at 0x7d22f480b908>"
      ]
     },
     "metadata": {},
     "output_type": "display_data"
    }
   ],
   "source": [
    "plt.figure(figsize=(10, 6))\n",
    "melted = engagement.reset_index().melt(id_vars='dog_stage', \n",
    "                                      var_name='metric', \n",
    "                                      value_name='count')\n",
    "sns.barplot(x='dog_stage', y='count', hue='metric', data=melted)\n",
    "plt.title('Average Engagement by Dog Stage')\n",
    "plt.savefig('engagement_by_stage.png')\n",
    "plt.show()"
   ]
  },
  {
   "cell_type": "code",
   "execution_count": 41,
   "metadata": {},
   "outputs": [
    {
     "data": {
      "image/png": "[encoded data removed]",
      "text/plain": [
       "<matplotlib.figure.Figure at 0x7d22c045a9b0>"
      ]
     },
     "metadata": {},
     "output_type": "display_data"
    }
   ],
   "source": [
    "# Visualization 2: Rating Distribution\n",
    "plt.figure(figsize=(10, 6))\n",
    "sns.distplot(df['rating_numerator'].dropna(), bins=20, kde=True, color='skyblue')\n",
    "plt.title('Distribution of Dog Ratings', fontsize=16)\n",
    "plt.xlabel('Rating (out of 10)', fontsize=12)\n",
    "plt.ylabel('Density', fontsize=12)  # Note y-axis label change\n",
    "plt.savefig('rating_distribution.png', bbox_inches='tight')\n",
    "plt.show()"
   ]
  },
  {
   "cell_type": "code",
   "execution_count": 42,
   "metadata": {},
   "outputs": [
    {
     "data": {
      "image/png": "[encoded data removed]",
      "text/plain": [
       "<matplotlib.figure.Figure at 0x7d22c0500940>"
      ]
     },
     "metadata": {},
     "output_type": "display_data"
    },
    {
     "name": "stdout",
     "output_type": "stream",
     "text": [
      "\n",
      "Visualizations saved:\n",
      "- engagement_by_stage.png\n",
      "- rating_distribution.png\n",
      "- top_breeds.png\n"
     ]
    }
   ],
   "source": [
    "# Visualization 3: Top Breeds\n",
    "plt.figure(figsize=(10, 6))\n",
    "top_breeds_sorted = top_breeds.sort_values()\n",
    "top_breeds_sorted.plot(kind='barh', color='lightgreen')\n",
    "plt.title('Top 5 Dog Breeds in WeRateDogs', fontsize=16)\n",
    "plt.xlabel('Count', fontsize=12)\n",
    "plt.ylabel('Breed', fontsize=12)\n",
    "plt.savefig('top_breeds.png', bbox_inches='tight')\n",
    "plt.show()\n",
    "\n",
    "print(\"\\nVisualizations saved:\")\n",
    "print(\"- engagement_by_stage.png\")\n",
    "print(\"- rating_distribution.png\")\n",
    "print(\"- top_breeds.png\")"
   ]
  }
 ],
 "metadata": {
  "extensions": {
   "jupyter_dashboards": {
    "activeView": "report_default",
    "version": 1,
    "views": {
     "grid_default": {
      "cellMargin": 10,
      "defaultCellHeight": 20,
      "maxColumns": 12,
      "name": "grid",
      "type": "grid"
     },
     "report_default": {
      "name": "report",
      "type": "report"
     }
    }
   }
  },
  "kernelspec": {
   "display_name": "Python 3",
   "language": "python",
   "name": "python3"
  },
  "language_info": {
   "codemirror_mode": {
    "name": "ipython",
    "version": 3
   },
   "file_extension": ".py",
   "mimetype": "text/x-python",
   "name": "python",
   "nbconvert_exporter": "python",
   "pygments_lexer": "ipython3",
   "version": "3.6.3"
  }
 },
 "nbformat": 4,
 "nbformat_minor": 2
}
